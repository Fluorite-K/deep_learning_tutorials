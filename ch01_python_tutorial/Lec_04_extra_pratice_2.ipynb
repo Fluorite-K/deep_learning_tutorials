{
 "cells": [
  {
   "cell_type": "code",
   "execution_count": null,
   "metadata": {},
   "outputs": [],
   "source": [
    "import random\n",
    "\n",
    "flag = None\n",
    "mapping = {1:'가위', 2:'바위', 3:'보'}\n",
    "\n",
    "while True:\n",
    "    info_str = \"가위: 1, 바위: 2, 보: 3, 종료: q\\n입력하세요%s: \" % (\"(\" + flag + \" 공격)\" if flag else \"(선공을 정합니다)\")\n",
    "    user = input(info_str)\n",
    "    \n",
    "    if user == 'q': # <== 'q' 입력 시 종료\n",
    "        break\n",
    "        \n",
    "    user = int(user)\n",
    "    if not 0 < user <= 3:\n",
    "        print(\"0 ~ 2 사이의 값을 입력해주세요.\")\n",
    "        continue\n",
    "        \n",
    "    com = random.randint(1, 3)\n",
    "    \n",
    "    print(\"\\tPlayer   : \", mapping[user])\n",
    "    print(\"\\tComputer : \", mapping[com])\n",
    "    \n",
    "    result = user - com % 3\n",
    "    \n",
    "    if result == 0:\n",
    "        if flag != None:\n",
    "            print(flag, \"Win!\")\n",
    "            flag = None\n",
    "        \n",
    "    elif result == 1:\n",
    "        flag = \"Player\"\n",
    "\n",
    "    else:\n",
    "        flag = \"Computer\"\n",
    "\n",
    "        \n",
    "    print()"
   ]
  }
 ],
 "metadata": {
  "kernelspec": {
   "display_name": "Python 3",
   "language": "python",
   "name": "python3"
  },
  "language_info": {
   "codemirror_mode": {
    "name": "ipython",
    "version": 3
   },
   "file_extension": ".py",
   "mimetype": "text/x-python",
   "name": "python",
   "nbconvert_exporter": "python",
   "pygments_lexer": "ipython3",
   "version": "3.6.5"
  }
 },
 "nbformat": 4,
 "nbformat_minor": 2
}
