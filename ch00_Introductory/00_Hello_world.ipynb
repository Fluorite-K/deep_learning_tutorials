{
 "cells": [
  {
   "cell_type": "markdown",
   "metadata": {},
   "source": [
    "# Installation\n",
    "* Install python 3.x interpreter only.\n",
    "[Download Python 3.x stable](https://www.python.org/downloads/)\n",
    "\n",
    "* Install Anaconda 3.x (recommanded)\n",
    "[Download Anaconda 3.x](https://www.anaconda.com/download/)"
   ]
  },
  {
   "cell_type": "markdown",
   "metadata": {},
   "source": [
    "# [Optional] Add Environment Variables.\n",
    "\n",
    "* Anaconda\n",
    " 1. CONDA_DIR : The path of directory what you installed Anaconda's root dir.\n",
    " 2. Add Variables in PATH\n",
    "  * %CONDA_DIR%\n",
    "  * %CONDA_DIR%\\bin\n",
    "   %CONDA_DIR%\\Script"
   ]
  },
  {
   "cell_type": "markdown",
   "metadata": {},
   "source": [
    "# Confirm\n",
    "\n",
    "1. Run Kernel program(Cmd or Terminal or Any Others) \n",
    "2. Run command *__python__*\n",
    "```\n",
    "$ python\n",
    "```\n",
    "3. Type code."
   ]
  },
  {
   "cell_type": "code",
   "execution_count": 1,
   "metadata": {},
   "outputs": [
    {
     "name": "stdout",
     "output_type": "stream",
     "text": [
      "Hello world!\n"
     ]
    }
   ],
   "source": [
    "print('Hello world!')"
   ]
  },
  {
   "cell_type": "code",
   "execution_count": null,
   "metadata": {
    "collapsed": true
   },
   "outputs": [],
   "source": []
  }
 ],
 "metadata": {
  "kernelspec": {
   "display_name": "Python 3",
   "language": "python",
   "name": "python3"
  },
  "language_info": {
   "codemirror_mode": {
    "name": "ipython",
    "version": 3
   },
   "file_extension": ".py",
   "mimetype": "text/x-python",
   "name": "python",
   "nbconvert_exporter": "python",
   "pygments_lexer": "ipython3",
   "version": "3.6.1"
  }
 },
 "nbformat": 4,
 "nbformat_minor": 2
}
