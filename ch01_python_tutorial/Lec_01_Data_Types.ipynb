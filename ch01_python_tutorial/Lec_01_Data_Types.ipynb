{
 "cells": [
  {
   "cell_type": "code",
   "execution_count": 1,
   "metadata": {},
   "outputs": [
    {
     "data": {
      "text/html": [
       "<style>\n",
       "    table {float:left}\n",
       "</style>"
      ],
      "text/plain": [
       "<IPython.core.display.HTML object>"
      ]
     },
     "metadata": {},
     "output_type": "execute_result"
    }
   ],
   "source": [
    "%%html\n",
    "<style>\n",
    "    table {float:left}\n",
    "</style>"
   ]
  },
  {
   "cell_type": "markdown",
   "metadata": {},
   "source": [
    "# Basic built in types in Python\n",
    "* Testing truthy or falsey value\n",
    "* Numeric Types - int, float, complex\n",
    "* Sequence Types - list, tuple, range\n",
    "* Text Sequence Type - str\n",
    "* Set Types - set, frozenset\n",
    "* Mapping Type - dict\n",
    "\n",
    "[Python Document: Built-in types](https://docs.python.org/3/library/stdtypes.html)"
   ]
  },
  {
   "cell_type": "markdown",
   "metadata": {},
   "source": [
    "## Testing Truthy or Falsy value.\n",
    "* constants defined to be false: None and False.\n",
    "* zero of any numeric type: 0, 0.0, 0j, Decimal(0), Fraction(0, 1)\n",
    "* empty sequences and collections: '', (), [], {}, set(), range(0)\n",
    "\n",
    "### Boolean operations\n",
    "| __Operation__\t| __Result__ | __Notes__ |\n",
    "|:------:|:------|:-:|\n",
    "| ```x or y```\t| if x is false, then y, else x\t| (1) |\n",
    "| ```x and y```\t| if x is false, then x, else y\t| (2) |\n",
    "| ```not x```\t| if x is false, then True, else False\t| (3) |\n",
    "<br/><br/><br/><br/><br/><br/>\n",
    "Notes:\n",
    "\n",
    "1. This is a short-circuit operator, so it only evaluates the second argument if the first one is false.\n",
    "2. This is a short-circuit operator, so it only evaluates the second argument if the first one is true.\n",
    "3. `not` has a lower priority than non-Boolean operators, so `not a == b` is interpreted as  `not (a == b)`, and `a == not b` is a syntax error.\n",
    "\n",
    "\n",
    "### Comparisons\n",
    "| __Operation__ | __Meaning__ |\n",
    "|:---------------:|:-----------------------|\n",
    "| ```<``` | strictly less than |\n",
    "| ```<=``` | less than or equal |\n",
    "| ```>``` | strictly greater than |\n",
    "| ```>=``` | greater than or equal |\n",
    "| ```==``` | equal |\n",
    "| ```!=``` | object identity |\n",
    "| ```is``` | strictly less than |\n",
    "| ```is not``` | negated object identity |\n"
   ]
  },
  {
   "cell_type": "markdown",
   "metadata": {},
   "source": [
    "## 1. Numeric Types\n",
    "* int\n",
    "* float\n",
    "* complex"
   ]
  },
  {
   "cell_type": "markdown",
   "metadata": {},
   "source": [
    "### Operations for Numeric types\n",
    "\n",
    "| Operation |\tResult\t| Full documentation |\n",
    "|:-----------:|:-----------|:--------------------:|\n",
    "| `x + y` |\tsum of x and y\t| |\n",
    "| `x - y` |\tdifference of x and y | |\n",
    "| `x * y` |\tproduct of x and y | |\n",
    "| `x / y` |\tquotient of x and y\t| |\n",
    "| `x // y` |\tfloored quotient of x and y\t| |\n",
    "| `x % y` |\tremainder of x / y | |\n",
    "| `-x` |\tx negated | |\n",
    "| `+x` |\tx unchanged\t| |\t \n",
    "| `abs(x)` | absolute value or magnitude of x | [`abs()`](https://docs.python.org/3/library/functions.html#abs) |\n",
    "| `int(x)` | x converted to integer | [`int()`](https://docs.python.org/3/library/functions.html#int) |\n",
    "| `float(x)` |\tx converted to floating point | [`float()`](https://docs.python.org/3/library/functions.html#float) |\n",
    "| `complex(re, im)` | a complex number with real part re, imaginary part im. im defaults to zero. | [`complex()`](https://docs.python.org/3/library/functions.html#complex) |\n",
    "| `c.conjugate()` |\tconjugate of the complex number c | |\n",
    "| `divmod(x, y)` |\tthe pair (x // y, x % y) | [`divmod()`](https://docs.python.org/3/library/functions.html#divmod) |\n",
    "| `pow(x, y)` |\tx to the power y | [`pow()`](https://docs.python.org/3/library/functions.html#pow) |\n",
    "| `x ** y` |\tx to the power y | |"
   ]
  },
  {
   "cell_type": "code",
   "execution_count": 2,
   "metadata": {},
   "outputs": [
    {
     "name": "stdout",
     "output_type": "stream",
     "text": [
      "-100 -100\n",
      "<class 'int'> <class 'int'>\n"
     ]
    }
   ],
   "source": [
    "# Integer\n",
    "\n",
    "print(-100, int(-100))\n",
    "print(\n",
    "    type(-100),\n",
    "    type(int(-100))\n",
    ")"
   ]
  },
  {
   "cell_type": "code",
   "execution_count": 3,
   "metadata": {},
   "outputs": [
    {
     "name": "stdout",
     "output_type": "stream",
     "text": [
      "3.3333333333333335 3.3333333333333335\n",
      "<class 'float'> <class 'float'>\n"
     ]
    }
   ],
   "source": [
    "# Floating number\n",
    "\n",
    "print(10/3, float(3.33333333333333333333333333333))\n",
    "print(\n",
    "    type(10/3),\n",
    "    type(float(10/3))\n",
    ")"
   ]
  },
  {
   "cell_type": "code",
   "execution_count": 4,
   "metadata": {},
   "outputs": [
    {
     "name": "stdout",
     "output_type": "stream",
     "text": [
      "(3+2j) (3+2j)\n",
      "<class 'complex'> <class 'complex'>\n"
     ]
    }
   ],
   "source": [
    "# Complex number\n",
    "\n",
    "print(3+2j, complex(3, 2))\n",
    "print(\n",
    "    type(3+2j),\n",
    "    type(complex(3, 2))\n",
    ")"
   ]
  },
  {
   "cell_type": "markdown",
   "metadata": {},
   "source": [
    "## 2. Sequential Types\n",
    "* list\n",
    "* tuple\n",
    "* range"
   ]
  },
  {
   "cell_type": "markdown",
   "metadata": {},
   "source": [
    "### Common Sequence Operations\n",
    "| Operation\t| Result |\n",
    "|:---------:|:-------|\n",
    "| `x in s` | `True` if an item of `s` is equal to `x`, else `False` |\n",
    "| `x not in s` | `False` if an item of `s` is equal to `x`, else `True` |\n",
    "| `s + t` |\tthe concatenation of `s` and `t` |\n",
    "| `s * n or n * s` | equivalent to adding `s` to itself `n` times |\n",
    "| `s[i]` |\t*_`i` _*th item of `s`, origin `0`|\n",
    "| `s[i:j]` | slice of `s` from `i` to `j` |\n",
    "| `s[i:j:k]` |\tslice of `s` from `i` to `j` with step `k` |\n",
    "| `len(s)` | length of `s`\t|\n",
    "| `min(s)` |\tsmallest item of `s` | \n",
    "| `max(s)` |\tlargest item of `s` |\n",
    "| `s.index(x[, i[, j]])` | index of the first occurrence of `x` in `s` (at or after index `i` and before index `j`) |\n",
    "| `s.count(x)` |\ttotal number of occurrences of `x` in `s` |"
   ]
  },
  {
   "cell_type": "code",
   "execution_count": 5,
   "metadata": {},
   "outputs": [
    {
     "name": "stdout",
     "output_type": "stream",
     "text": [
      "[1, '2', 3.0] [1, '2', 3.0]\n",
      "<class 'list'> <class 'list'>\n",
      "2 9 [4, 5, 6, 7] [0, 1, 2] [5, 6, 7, 8, 9] [0, 1, 2, 3, 4, 5, 6, 7, 8, 9]\n"
     ]
    }
   ],
   "source": [
    "# List\n",
    "\n",
    "print([1, '2', 3.0], list([1, '2', 3.0]))\n",
    "print(\n",
    "    type([1, '2', 3.0]),\n",
    "    type(list((1, '2', 3.0)))\n",
    ")\n",
    "print(\n",
    "    [0, 1, 2, 3, 4, 5, 6, 7, 8, 9][2],    # list indexing \n",
    "    [0, 1, 2, 3, 4, 5, 6, 7, 8, 9][-1],   # access last element in list by index(-1)\n",
    "    [0, 1, 2, 3, 4, 5, 6, 7, 8, 9][4:8],  # index slicing [ (Optional)[start_offset(inclusive)] : (Optional)[end_offset(exclusive)] ]\n",
    "    [0, 1, 2, 3, 4, 5, 6, 7, 8, 9][:3],   \n",
    "    [0, 1, 2, 3, 4, 5, 6, 7, 8, 9][5:],\n",
    "    [0, 1, 2, 3, 4, 5, 6, 7, 8, 9][:],\n",
    ")"
   ]
  },
  {
   "cell_type": "code",
   "execution_count": 6,
   "metadata": {},
   "outputs": [
    {
     "name": "stdout",
     "output_type": "stream",
     "text": [
      "(1, '2', 3.0) (1, '2', 3.0)\n",
      "<class 'tuple'> <class 'list'>\n",
      "2 9 (4, 5, 6, 7) (0, 1, 2) (5, 6, 7, 8, 9) (0, 1, 2, 3, 4, 5, 6, 7, 8, 9)\n"
     ]
    }
   ],
   "source": [
    "# Tuple\n",
    "\n",
    "print( (1, '2', 3.0), tuple([1, '2', 3.0]) )\n",
    "print(\n",
    "    type((1, '2', 3.0)),\n",
    "    type(list((1, '2', 3.0)))\n",
    ")\n",
    "print(\n",
    "    (0, 1, 2, 3, 4, 5, 6, 7, 8, 9)[2],    # indexing \n",
    "    (0, 1, 2, 3, 4, 5, 6, 7, 8, 9)[-1],   # access last element in tuple by index(-1)\n",
    "    (0, 1, 2, 3, 4, 5, 6, 7, 8, 9)[4:8],  # index slicing [ (Optional)[start_offset(inclusive)] : (Optional)[end_offset(exclusive)] ]\n",
    "    (0, 1, 2, 3, 4, 5, 6, 7, 8, 9)[:3],   \n",
    "    (0, 1, 2, 3, 4, 5, 6, 7, 8, 9)[5:],\n",
    "    (0, 1, 2, 3, 4, 5, 6, 7, 8, 9)[:],\n",
    ")"
   ]
  },
  {
   "cell_type": "code",
   "execution_count": 10,
   "metadata": {},
   "outputs": [
    {
     "name": "stdout",
     "output_type": "stream",
     "text": [
      "[1, 2, 100, 4, 5]\n"
     ]
    },
    {
     "ename": "TypeError",
     "evalue": "'tuple' object does not support item assignment",
     "output_type": "error",
     "traceback": [
      "\u001b[0;31m---------------------------------------------------------------------------\u001b[0m",
      "\u001b[0;31mTypeError\u001b[0m                                 Traceback (most recent call last)",
      "\u001b[0;32m<ipython-input-10-1186ff10e420>\u001b[0m in \u001b[0;36m<module>\u001b[0;34m()\u001b[0m\n\u001b[1;32m      7\u001b[0m \u001b[0mprint\u001b[0m\u001b[0;34m(\u001b[0m\u001b[0ml\u001b[0m\u001b[0;34m)\u001b[0m\u001b[0;34m\u001b[0m\u001b[0m\n\u001b[1;32m      8\u001b[0m \u001b[0;34m\u001b[0m\u001b[0m\n\u001b[0;32m----> 9\u001b[0;31m \u001b[0mt\u001b[0m\u001b[0;34m[\u001b[0m\u001b[0;36m2\u001b[0m\u001b[0;34m]\u001b[0m \u001b[0;34m=\u001b[0m \u001b[0;36m100\u001b[0m  \u001b[0;31m# <- Error occurred. Because tuple is immutable!\u001b[0m\u001b[0;34m\u001b[0m\u001b[0m\n\u001b[0m\u001b[1;32m     10\u001b[0m \u001b[0mprint\u001b[0m\u001b[0;34m(\u001b[0m\u001b[0mt\u001b[0m\u001b[0;34m)\u001b[0m\u001b[0;34m\u001b[0m\u001b[0m\n",
      "\u001b[0;31mTypeError\u001b[0m: 'tuple' object does not support item assignment"
     ]
    }
   ],
   "source": [
    "# The difference between list and tuple\n",
    "l = [1, 2, 3, 4, 5]\n",
    "t = (1, 2, 3, 4, 5)\n",
    "\n",
    "# Change elements in each instance of sequential types\n",
    "l[2] = 100  # [1, 2, 3, 4, 5, 6]\n",
    "print(l)\n",
    "\n",
    "t[2] = 100  # <- Error occurred. Because tuple is immutable!\n",
    "print(t) "
   ]
  },
  {
   "cell_type": "code",
   "execution_count": 11,
   "metadata": {},
   "outputs": [
    {
     "name": "stdout",
     "output_type": "stream",
     "text": [
      "range(0, 10) <class 'range'>\n",
      "range(0, 10) range(2, 3)\n",
      "0\n",
      "1\n",
      "2\n",
      "3\n",
      "4\n",
      "5\n",
      "6\n",
      "7\n",
      "8\n",
      "9\n",
      "----------\n",
      "2\n",
      "3\n",
      "4\n",
      "5\n",
      "6\n",
      "7\n",
      "8\n",
      "9\n",
      "----------\n",
      "10\n",
      "8\n",
      "6\n",
      "4\n",
      "2\n",
      "[2, 3, 4]\n"
     ]
    }
   ],
   "source": [
    "# Range <- Generator\n",
    "\n",
    "print(range(10), type(range(10)))\n",
    "print(\n",
    "    range(10)[:],\n",
    "    range(10)[2:3]\n",
    ")\n",
    "\n",
    "for i in range(10):\n",
    "    print(i)\n",
    "    \n",
    "print('-'*10)\n",
    "\n",
    "for i in range(2, 10):\n",
    "    print(i)\n",
    "    \n",
    "print('-' * 10)\n",
    "\n",
    "for i in range(10, 0, -2):\n",
    "    print(i)\n",
    "    \n",
    "print([i for i in range(10)[2:5]]) # List Comprehension"
   ]
  },
  {
   "cell_type": "markdown",
   "metadata": {},
   "source": [
    "## 3. Text Sequence Types\n",
    "* [str](https://docs.python.org/3/library/stdtypes.html#str)"
   ]
  },
  {
   "cell_type": "code",
   "execution_count": null,
   "metadata": {},
   "outputs": [],
   "source": [
    "print(\n",
    "    'string with single quotation.\\n',\n",
    "    \"string with double quotation\\n\",\n",
    "    '''string with triple single quots\\n''',\n",
    "    \"\"\"string with triple double quots\\n\"\"\",\n",
    "    str('string with class')\n",
    ")\n",
    "print(\n",
    "    type('string with single quotation.'),\n",
    "    type(\"string with double quotation.\"),\n",
    "    type('''string with triple single quots'''),\n",
    "    type(\"\"\"string with triple double quots\"\"\"),\n",
    "    type(str('string with class'))\n",
    ")\n",
    "\n",
    "s = str('string')\n",
    "print(s[3:5])   # in << str support indexing.\n",
    "# s[0] = 'S'    # Error occur. str is immutable\n",
    "\n",
    "print('Is it same object? ', \n",
    "      id(s) \n",
    "      == id(str('string')) \n",
    "      == id('string') \n",
    "      == id(\"string\") \n",
    "      == id('''string''') \n",
    "      == id(\"\"\"string\"\"\")\n",
    "     ) # python has pool of string literal.\n",
    "\n",
    "print('Is it same object? ', id(s) == id(s.replace('s', 'S'))) \n",
    "\n",
    "\n",
    "# multiple_line_str = 'first line.\n",
    "# second line.'\n",
    "\n",
    "multiple_line_str = '''first line.\n",
    "second line.'''\n",
    "\n",
    "print(multiple_line_str)"
   ]
  },
  {
   "cell_type": "code",
   "execution_count": null,
   "metadata": {},
   "outputs": [],
   "source": [
    "def function1():\n",
    "    '''This is docstring.'''\n",
    "    pass\n",
    "\n",
    "def function2():\n",
    "    \"\"\"It same too.\"\"\"\n",
    "    pass\n",
    "\n",
    "print(function1.__doc__)\n",
    "help(function2)"
   ]
  },
  {
   "cell_type": "markdown",
   "metadata": {},
   "source": [
    "## 4. Set Types\n",
    "_All elements' value are unique.(Cannot duplicate)_<br/>\n",
    "_Has no order of each elements.(Cannot indexing)_\n",
    "* set        _ (mutable)_\n",
    "* frozenset  _ (immutable)_"
   ]
  },
  {
   "cell_type": "code",
   "execution_count": null,
   "metadata": {},
   "outputs": [],
   "source": [
    "print(\n",
    "    set([1, 2, 3, 4, 2]),       # {1, 2, 3, 4} '2' was duplicated.\n",
    "    frozenset([1, 2, 3, 4, 1]), # {1, 2, 3, 4} '1' was duplicated.\n",
    ")\n",
    "s = set([4, -1, -3, 2])\n",
    "fs = frozenset([2, 1, 2])\n",
    "\n",
    "s.add(-100)\n",
    "print(s)\n",
    "# print(s[-1]) # Error occur. Set cannot support indexing. Because set has no order.\n",
    "\n",
    "print(\n",
    "    s.intersection(fs)\n",
    ")"
   ]
  },
  {
   "cell_type": "code",
   "execution_count": null,
   "metadata": {
    "collapsed": true
   },
   "outputs": [],
   "source": [
    "# print('Set\\n', [x for x in dir(set) if not x.startswith('__')])\n",
    "# print('-' * 100)\n",
    "# print('Frozen set\\n', [x for x in dir(frozenset) if not x.startswith('__')])"
   ]
  },
  {
   "cell_type": "markdown",
   "metadata": {},
   "source": [
    "## 5. Mapping Types\n",
    "* dict"
   ]
  },
  {
   "cell_type": "code",
   "execution_count": null,
   "metadata": {},
   "outputs": [],
   "source": [
    "print(dict(key='value', name='John', age=20))\n",
    "print(\n",
    "    {\n",
    "        'key': 'value',\n",
    "        'name': 'John',\n",
    "        'age': 20,\n",
    "        0: 'zero',\n",
    "        (1, 2, 3): 'tuple',\n",
    "        # [1, 2]: 'list', # Error occur. list is unhashable.\n",
    "    }\n",
    ")\n",
    "\n",
    "d = {\n",
    "        'key': 'value',\n",
    "        'name': 'John',\n",
    "        'age': 20,\n",
    "        0: 'zero',\n",
    "        (1, 2, 3): 'tuple',\n",
    "        # [1, 2]: 'list', # Error occur. list is unhashable.\n",
    "    }\n",
    "d['key'] = 'other value'\n",
    "d[(1, 2, 3)] = [1, 2, 3]\n",
    "print(d)\n",
    "\n",
    "temp_key = 0\n",
    "print('Access value using dict.get(key)\\n\\t \\\n",
    "    d.get(%s)= %s' % (str(temp_key), d.get(temp_key))\n",
    ")\n",
    "print('Get Key list:\\n\\t', d.keys())\n",
    "print('Get Item list:\\n\\t', d.items())\n",
    "print('Get Values:\\n\\t', d.values())\n",
    "\n",
    "new_d = {}\n",
    "print(new_d)\n",
    "new_d['new key'] = 'value' # Add item.\n",
    "print(new_d)\n",
    "\n",
    "d.update(new_d) # Add items from parameter(=new_d) to caller(=d)\n",
    "print(d)"
   ]
  },
  {
   "cell_type": "code",
   "execution_count": null,
   "metadata": {
    "collapsed": true
   },
   "outputs": [],
   "source": []
  }
 ],
 "metadata": {
  "kernelspec": {
   "display_name": "Python 3",
   "language": "python",
   "name": "python3"
  },
  "language_info": {
   "codemirror_mode": {
    "name": "ipython",
    "version": 3
   },
   "file_extension": ".py",
   "mimetype": "text/x-python",
   "name": "python",
   "nbconvert_exporter": "python",
   "pygments_lexer": "ipython3",
   "version": "3.6.5"
  }
 },
 "nbformat": 4,
 "nbformat_minor": 2
}
