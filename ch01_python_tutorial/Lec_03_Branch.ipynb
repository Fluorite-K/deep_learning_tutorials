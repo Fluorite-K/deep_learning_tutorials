{
 "cells": [
  {
   "cell_type": "markdown",
   "metadata": {},
   "source": [
    "### Branch statement\n",
    "* ```if``` statement\n",
    "* ```elif```\n",
    "* ```else```"
   ]
  },
  {
   "cell_type": "code",
   "execution_count": 1,
   "metadata": {},
   "outputs": [
    {
     "name": "stdout",
     "output_type": "stream",
     "text": [
      "CamelCase\n"
     ]
    }
   ],
   "source": [
    "# Usage\n",
    "# if condition:\n",
    "# condition is any expressions to represent true or false.\n",
    "\n",
    "# if condition:\n",
    "#    statements\n",
    "# [elif condition:\n",
    "#    statements]*\n",
    "# [else:\n",
    "#    statements]?\n",
    "# * means: 0 ~ (any)\n",
    "# ? means: 0 or 1\n",
    "\n",
    "# flag 변수가 정수인지 문자인지 판단하여 타입을 출력한다.\n",
    "# 문자열인 경우 대문자인지 소문자인지 특수문자가 포함되어 있는지 판단하여 출력한다.\n",
    "\n",
    "flag = 'CamelCase'\n",
    "\n",
    "if flag.isdecimal():\n",
    "    print(\"정수값: \", flag)\n",
    "    \n",
    "else:\n",
    "    print(flag)\n",
    "    \n",
    "    # Nested if\n",
    "    if flag.isupper(): # help(str.isupper)\n",
    "        print(\"대문자: \", flag)\n",
    "    \n",
    "    elif flag.islower(): # help(str.islower)\n",
    "        print(\"소문자: \", flag)\n",
    "        \n",
    "    elif not flag.isalnum(): # help(str.isalnum)\n",
    "        print(\"특수문자 포함된 문자열: \", flag)\n",
    "    \n",
    "#     else: # 위의 모든 상황이 아닌 경우에 무조건 수행됨.\n",
    "#         print(\"일반 문자열: \", flag)"
   ]
  },
  {
   "cell_type": "code",
   "execution_count": 2,
   "metadata": {},
   "outputs": [
    {
     "name": "stdout",
     "output_type": "stream",
     "text": [
      "only lower case\n",
      "소문자:  only lower case\n"
     ]
    }
   ],
   "source": [
    "flag = 'only lower case'\n",
    "\n",
    "if flag.isdecimal():\n",
    "    print(\"정수값: \", flag)\n",
    "    \n",
    "else:\n",
    "    print(flag)\n",
    "    \n",
    "    # Nested if\n",
    "    if flag.isupper(): # help(str.isupper)\n",
    "        print(\"대문자: \", flag)\n",
    "    \n",
    "    elif flag.islower(): # help(str.islower)\n",
    "        print(\"소문자: \", flag)\n",
    "        \n",
    "    elif not flag.isalnum(): # help(str.isalnum)\n",
    "        print(\"특수문자 포함된 문자열: \", flag)"
   ]
  },
  {
   "cell_type": "code",
   "execution_count": 3,
   "metadata": {},
   "outputs": [
    {
     "name": "stdout",
     "output_type": "stream",
     "text": [
      "ONLY UPPER CASE\n",
      "대문자:  ONLY UPPER CASE\n"
     ]
    }
   ],
   "source": [
    "flag = 'ONLY UPPER CASE'\n",
    "\n",
    "if flag.isdecimal():\n",
    "    print(\"정수값: \", flag)\n",
    "    \n",
    "else:\n",
    "    print(flag)\n",
    "    \n",
    "    # Nested if\n",
    "    if flag.isupper(): # help(str.isupper)\n",
    "        print(\"대문자: \", flag)\n",
    "    \n",
    "    elif flag.islower(): # help(str.islower)\n",
    "        print(\"소문자: \", flag)\n",
    "        \n",
    "    elif not flag.isalnum(): # help(str.isalnum)\n",
    "        print(\"특수문자 포함된 문자열: \", flag)"
   ]
  },
  {
   "cell_type": "code",
   "execution_count": 4,
   "metadata": {},
   "outputs": [
    {
     "name": "stdout",
     "output_type": "stream",
     "text": [
      "정수값:  523897\n"
     ]
    }
   ],
   "source": [
    "flag = '523897'\n",
    "\n",
    "if flag.isdecimal():\n",
    "    print(\"정수값: \", flag)\n",
    "    \n",
    "else:\n",
    "    print(flag)\n",
    "    \n",
    "    # Nested if\n",
    "    if flag.isupper(): # help(str.isupper)\n",
    "        print(\"대문자: \", flag)\n",
    "    \n",
    "    elif flag.islower(): # help(str.islower)\n",
    "        print(\"소문자: \", flag)\n",
    "        \n",
    "    elif not flag.isalnum(): # help(str.isalnum)\n",
    "        print(\"특수문자 포함된 문자열: \", flag)"
   ]
  },
  {
   "cell_type": "code",
   "execution_count": 5,
   "metadata": {},
   "outputs": [
    {
     "name": "stdout",
     "output_type": "stream",
     "text": [
      "-3245\n",
      "특수문자 포함된 문자열:  -3245\n"
     ]
    }
   ],
   "source": [
    "flag = '-3245'\n",
    "\n",
    "if flag.isdecimal():\n",
    "    print(\"정수값: \", flag)\n",
    "    \n",
    "else:\n",
    "    print(flag)\n",
    "    \n",
    "    # Nested if\n",
    "    if flag.isupper(): # help(str.isupper)\n",
    "        print(\"대문자: \", flag)\n",
    "    \n",
    "    elif flag.islower(): # help(str.islower)\n",
    "        print(\"소문자: \", flag)\n",
    "        \n",
    "    elif not flag.isalnum(): # help(str.isalnum)\n",
    "        print(\"특수문자 포함된 문자열: \", flag)"
   ]
  },
  {
   "cell_type": "code",
   "execution_count": 6,
   "metadata": {},
   "outputs": [
    {
     "name": "stdout",
     "output_type": "stream",
     "text": [
      "int\n"
     ]
    }
   ],
   "source": [
    "# Assignment with if statements\n",
    "# value 변수가 숫자면 \"int\" 그렇지 않다면 \"str\"을 var_type 변수에 할당.\n",
    "# elif는 불가\n",
    "\n",
    "value = \"234\"\n",
    "var_type = \"int\" if value.isdigit() else \"str\"\n",
    "print(var_type)"
   ]
  },
  {
   "cell_type": "code",
   "execution_count": null,
   "metadata": {},
   "outputs": [],
   "source": []
  },
  {
   "cell_type": "code",
   "execution_count": null,
   "metadata": {},
   "outputs": [],
   "source": []
  }
 ],
 "metadata": {
  "kernelspec": {
   "display_name": "Python 3",
   "language": "python",
   "name": "python3"
  },
  "language_info": {
   "codemirror_mode": {
    "name": "ipython",
    "version": 3
   },
   "file_extension": ".py",
   "mimetype": "text/x-python",
   "name": "python",
   "nbconvert_exporter": "python",
   "pygments_lexer": "ipython3",
   "version": "3.6.5"
  }
 },
 "nbformat": 4,
 "nbformat_minor": 2
}
