{
 "cells": [
  {
   "cell_type": "markdown",
   "metadata": {},
   "source": [
    "# Jupyter Notebook Tutorials."
   ]
  },
  {
   "cell_type": "markdown",
   "metadata": {},
   "source": [
    "## 1. What is Jupyter Notebook?\n",
    "* __IPython__(_REPL*_)기반의 웹 인터페이스.\n",
    "* C/S 구조로 되어있으며 Api Server가 Notebook client(Web browser)에서 IPython kernel(python shell의 역할)을 사용할 수 있게끔 함. => Web browser에서 서버의 python shell을 사용할 수 있음.\n",
    "<br>\n",
    "\n",
    " *** REPL(Read Eval Print Loop): 한 줄씩 code를 읽어 인터프리터(혹은 해석기)가 평가하여 출력을 반복하는 프로그램.<br><br>\n",
    " *** __공식 사이트 >> https://jupyter.org/__"
   ]
  },
  {
   "cell_type": "markdown",
   "metadata": {},
   "source": [
    "## 2. Installation\n",
    "### Prerequisite\n",
    "* __Python & pip__ or __Anaconda__(recommended)\n",
    "\n",
    "### Install\n",
    "* Install Jupyter using pip\n",
    "> `# conda install jupyter`\n",
    "* Install Jupyter using pip\n",
    "> `# pip install jupyter`"
   ]
  },
  {
   "cell_type": "markdown",
   "metadata": {},
   "source": [
    "## 3. Run Jupyter Notebook\n",
    "* **Run server and connect server.**\n",
    "> `$ jupyter notebook [--port 8888]`\n",
    "* **Connect Server.**<br>\n",
    "Type the server`s url on your browser`s address bar.<br>\n",
    "Default server address is \"http://localhost:8888\""
   ]
  },
  {
   "cell_type": "markdown",
   "metadata": {},
   "source": [
    "## 4. Cells\n",
    "\n",
    "* Code Cell: Code Section. This cell is runnable.\n",
    "[More Informations click here.](https://jupyter-notebook.readthedocs.io/en/stable/examples/Notebook/Running%20Code.html)\n",
    " * [IPython magics](https://ipython.org/ipython-doc/3/interactive/magics.html)\n",
    " \n",
    "\n",
    "* Markdown Cell: Edit or Represent Markdown document.\n",
    "[More Informations click here.](https://jupyter-notebook.readthedocs.io/en/stable/examples/Notebook/Working%20With%20Markdown%20Cells.html)\n",
    " * [Advanced equations](https://jupyter-notebook.readthedocs.io/en/stable/examples/Notebook/Typesetting%20Equations.html)"
   ]
  },
  {
   "cell_type": "markdown",
   "metadata": {},
   "source": [
    "## 5. Running Codes"
   ]
  },
  {
   "cell_type": "code",
   "execution_count": 1,
   "metadata": {
    "collapsed": true
   },
   "outputs": [],
   "source": [
    "def greeting(name=None):\n",
    "    if name:\n",
    "        print('Hi, %s!'% name)\n",
    "    else:\n",
    "        print('Hello World!')"
   ]
  },
  {
   "cell_type": "code",
   "execution_count": 2,
   "metadata": {},
   "outputs": [
    {
     "name": "stdout",
     "output_type": "stream",
     "text": [
      "Hello World!\n",
      "Hi, John!\n"
     ]
    }
   ],
   "source": [
    "greeting()\n",
    "greeting(name='John')"
   ]
  },
  {
   "cell_type": "markdown",
   "metadata": {},
   "source": [
    "## 6. Performance Check"
   ]
  },
  {
   "cell_type": "code",
   "execution_count": 3,
   "metadata": {
    "collapsed": true
   },
   "outputs": [],
   "source": [
    "def fibonacci_sequence_loop(n):\n",
    "    sequence = []\n",
    "    \n",
    "    for idx in range(n+1):\n",
    "        if idx < 2:\n",
    "            sequence.append(idx)\n",
    "        else:\n",
    "            sequence.append(sequence[idx-2] + sequence[idx-1])\n",
    "            \n",
    "    return sequence[1:]\n",
    "\n",
    "\n",
    "def fibonacci_sequence_recursion(n):\n",
    "    if n == 0 or n == 1:\n",
    "        return n\n",
    "    else:\n",
    "        return fibonacci_sequence_recursion(n-2) + fibonacci_sequence_recursion(n-1)"
   ]
  },
  {
   "cell_type": "code",
   "execution_count": 4,
   "metadata": {},
   "outputs": [
    {
     "name": "stdout",
     "output_type": "stream",
     "text": [
      "55\n",
      "CPU times: user 198 µs, sys: 126 µs, total: 324 µs\n",
      "Wall time: 216 µs\n",
      "55\n",
      "CPU times: user 142 µs, sys: 145 µs, total: 287 µs\n",
      "Wall time: 190 µs\n"
     ]
    }
   ],
   "source": [
    "%time print(fibonacci_sequence_loop(10)[-1])\n",
    "%time print(fibonacci_sequence_recursion(10))"
   ]
  },
  {
   "cell_type": "code",
   "execution_count": 5,
   "metadata": {},
   "outputs": [
    {
     "name": "stdout",
     "output_type": "stream",
     "text": [
      "[1, 1, 2, 3, 5, 8, 13, 21, 34, 55]\n",
      "[1, 1, 2, 3, 5, 8, 13, 21, 34, 55]\n",
      "CPU times: user 361 µs, sys: 251 µs, total: 612 µs\n",
      "Wall time: 436 µs\n"
     ]
    }
   ],
   "source": [
    "%%time\n",
    "print(fibonacci_sequence_loop(10))\n",
    "print([fibonacci_sequence_recursion(i) for i in range(1, 11)])"
   ]
  },
  {
   "cell_type": "markdown",
   "metadata": {},
   "source": [
    "## 7. Visualization\n",
    " ### Images\n",
    "  * __Using markdown__\n",
    "  ```\n",
    "  # Usage:\n",
    "      ![title](url of image)\n",
    "  ```\n",
    "  ![jupyter_logo](http://www.i-programmer.info/images/stories/News/2015/Mar/A/jupyter.jpg)\n",
    "  \n",
    "  * __Using Python code__\n",
    "  ```python\n",
    "  # Usage:\n",
    "  from IPython.display import Image\n",
    "  \n",
    "  Image(url='url of image', width=200, height=180)\n",
    "  ```"
   ]
  },
  {
   "cell_type": "code",
   "execution_count": 6,
   "metadata": {},
   "outputs": [
    {
     "data": {
      "text/html": [
       "<img src=\"http://www.i-programmer.info/images/stories/News/2015/Mar/A/jupyter.jpg\" width=\"200\" height=\"180\"/>"
      ],
      "text/plain": [
       "<IPython.core.display.Image object>"
      ]
     },
     "execution_count": 6,
     "metadata": {},
     "output_type": "execute_result"
    }
   ],
   "source": [
    "from IPython.display import Image\n",
    "\n",
    "Image(url='http://www.i-programmer.info/images/stories/News/2015/Mar/A/jupyter.jpg', width=200, height=180)"
   ]
  },
  {
   "cell_type": "markdown",
   "metadata": {},
   "source": [
    "### YouTube Video\n",
    "```python\n",
    "# Usage:\n",
    "from IPython.display import YouTubeVideo\n",
    "\n",
    "YouTubeVideo('part of url')\n",
    "```\n",
    "\n",
    "If you want to display youtube video according to \"https://www.youtube.com/watch?v=SLPo0o_HArs\". In this situation YouTubeVideo Class's init param is '__SLPo0o_HArs__' that appears affer 'www.youtube.com/watch?v='."
   ]
  },
  {
   "cell_type": "code",
   "execution_count": 7,
   "metadata": {},
   "outputs": [
    {
     "data": {
      "image/jpeg": "[encoded data removed]",
      "text/plain": [
       "<IPython.lib.display.YouTubeVideo at 0x107521588>"
      ]
     },
     "metadata": {}
    }
   ],
   "source": [
    "from IPython.display import YouTubeVideo\n",
    "\n",
    "YouTubeVideo('SLPo0o_HArs')"
   ]
  },
  {
   "cell_type": "markdown",
   "metadata": {},
   "source": [
    "## 8. Cheat sheet\n",
    "* [Jupyter Cheat Sheet - Amazon S3](https://s3.amazonaws.com/assets.datacamp.com/blog_assets/Jupyter_Notebook_Cheat_Sheet.pdf)\n",
    "* [Jupyter Notebook Keyboard Shortcuts](https://www.cheatography.com/weidadeyue/cheat-sheets/jupyter-notebook/)"
   ]
  }
 ],
 "metadata": {
  "kernelspec": {
   "display_name": "Python 3",
   "language": "python",
   "name": "python3"
  },
  "language_info": {
   "codemirror_mode": {
    "name": "ipython",
    "version": 3
   },
   "file_extension": ".py",
   "mimetype": "text/x-python",
   "name": "python",
   "nbconvert_exporter": "python",
   "pygments_lexer": "ipython3",
   "version": "3.6.1"
  }
 },
 "nbformat": 4,
 "nbformat_minor": 2
}
