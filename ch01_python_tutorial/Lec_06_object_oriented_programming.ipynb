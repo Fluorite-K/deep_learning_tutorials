{
 "cells": [
  {
   "cell_type": "code",
   "execution_count": null,
   "metadata": {
    "collapsed": true
   },
   "outputs": [],
   "source": [
    "import random\n",
    "import pprint"
   ]
  },
  {
   "cell_type": "markdown",
   "metadata": {},
   "source": [
    "# Object Oriented Programming\n",
    "\n",
    "## Features\n",
    "\n",
    "* Abstraction\n",
    "* Encapsulation\n",
    "* Inheritance\n",
    "* Polymorphism"
   ]
  },
  {
   "cell_type": "markdown",
   "metadata": {},
   "source": [
    "## 1. Objects & Classes\n",
    "\n",
    "* Objects: Anything in the real world.\n",
    "* Classes: Abstracted objects."
   ]
  },
  {
   "cell_type": "code",
   "execution_count": null,
   "metadata": {},
   "outputs": [],
   "source": [
    "class Person:\n",
    "    name ='name'\n",
    "    age = 0\n",
    "    \n",
    "    def __str__(self):\n",
    "        return 'Person[Name: {}, age: {}]'.format(self.name, self.age)"
   ]
  },
  {
   "cell_type": "markdown",
   "metadata": {},
   "source": [
    "Naming rule(convention): Use CapWords <br/>\n",
    "[Style guide for Python: PEP 8](https://www.python.org/dev/peps/pep-0008/#class-names)"
   ]
  },
  {
   "cell_type": "markdown",
   "metadata": {},
   "source": [
    "## 2. Class & Instance\n",
    "* Class: idea, concept, template\n",
    "* Instance: substance, entity"
   ]
  },
  {
   "cell_type": "code",
   "execution_count": null,
   "metadata": {},
   "outputs": [],
   "source": [
    "p = Person()\n",
    "print(p)\n",
    "del(p)\n",
    "del(Person)"
   ]
  },
  {
   "cell_type": "markdown",
   "metadata": {},
   "source": [
    "## 3. Members"
   ]
  },
  {
   "cell_type": "code",
   "execution_count": null,
   "metadata": {},
   "outputs": [],
   "source": [
    "class Person:\n",
    "    def __init__(self, name, age, gender):\n",
    "        self.name = name\n",
    "        self.age = age\n",
    "        self.gender = gender\n",
    "        \n",
    "    def greeting(self):\n",
    "        print(\"Hi, I`m {}.\".format(self.name))\n",
    "        \n",
    "    def __str__(self):\n",
    "        return 'Person[Name: {}, age: {}, gender: {}]'.format(self.name, self.age, self.gender)"
   ]
  },
  {
   "cell_type": "markdown",
   "metadata": {},
   "source": [
    "### 3-1. Variables: Represent objects' status or properties."
   ]
  },
  {
   "cell_type": "code",
   "execution_count": null,
   "metadata": {},
   "outputs": [],
   "source": [
    "# Instantiate a new Person\n",
    "person = Person('John', 20, 'Male')\n",
    "\n",
    "# Access member variables\n",
    "# Get person.name\n",
    "print('Name:\\t', person.name)\n",
    "\n",
    "# Get person.age\n",
    "print('Age:\\t', person.age)\n",
    "\n",
    "# Get person.gender\n",
    "print('Gender:\\t', person.gender)\n",
    "\n",
    "del(person)"
   ]
  },
  {
   "cell_type": "markdown",
   "metadata": {},
   "source": [
    "### 3-2. Methods: Represent objects' actions"
   ]
  },
  {
   "cell_type": "code",
   "execution_count": null,
   "metadata": {},
   "outputs": [],
   "source": [
    "# Call methods\n",
    "Person('John', 20, 'Male').greeting()"
   ]
  },
  {
   "cell_type": "code",
   "execution_count": null,
   "metadata": {
    "collapsed": true
   },
   "outputs": [],
   "source": [
    "del(Person)"
   ]
  },
  {
   "cell_type": "markdown",
   "metadata": {},
   "source": [
    "## 4. Instance member, Class member"
   ]
  },
  {
   "cell_type": "code",
   "execution_count": null,
   "metadata": {},
   "outputs": [],
   "source": [
    "class Person:\n",
    "    population = 0\n",
    "    life_expectancy = 60.0\n",
    "    \n",
    "    def __init__(self, name, gender, ssn, age=0, healthy=0.8):\n",
    "        self.name = name\n",
    "        self.age = age\n",
    "        self.gender = gender\n",
    "        self.healthy = healthy\n",
    "        self.__ssn = ssn\n",
    "        Person.population += 1\n",
    "        \n",
    "    def exercise(self):\n",
    "        self.healthy = min(self.healthy + 0.08, 1.0)\n",
    "        self.life_expectancy += 0.01\n",
    "        print(\"{}\\tHealthy: {}\\n\\tLife Expectancy: {}\".format(self.name, self.healthy, self.life_expectancy))\n",
    "    \n",
    "    def getting_old(self):\n",
    "        self.age += 1\n",
    "        self.healthy -= 0.1\n",
    "        print('{} became {}.'.format(self.name, self.age))\n",
    "        \n",
    "        if self.age > life_expectancy:\n",
    "            if (random.random() < 1 - self.healthy):\n",
    "                print('{} R.I.P'.format(self.name))\n",
    "                self.die()\n",
    "                print(\"Population: \", Person.population)\n",
    "                \n",
    "    \n",
    "    def get_status(self):\n",
    "        return 'Health Status\\n\\tName: {}\\n\\tAge: {}\\n\\tLife Expectancy: {}'.format(self.name, self.age, self.life_expectancy)\n",
    "    \n",
    "    \n",
    "    def __die(self):\n",
    "        del(self)\n",
    "    \n",
    "    @classmethod\n",
    "    def increse_life_expectancy(cls, increment):\n",
    "        Person.life_expectancy += increment\n",
    "    \n",
    "    \n",
    "    @staticmethod\n",
    "    def print_status(persons):\n",
    "        print(\"Current Popluation:\", Person.population)\n",
    "        for person in persons:\n",
    "            print(person.get_status())\n",
    "    \n",
    "    def __del__(self):\n",
    "        Person.population -= 1\n",
    "        \n",
    "        \n",
    "    def __str__(self):\n",
    "        return 'Person[Name: {}, age: {}, gender: {}, ssn: {}]'.format(self.name, self.age, self.gender, self.__ssn)"
   ]
  },
  {
   "cell_type": "markdown",
   "metadata": {},
   "source": [
    "### 4-1. Variables"
   ]
  },
  {
   "cell_type": "markdown",
   "metadata": {},
   "source": [
    "### 4-1-1. Instance variables (= member variables)"
   ]
  },
  {
   "cell_type": "code",
   "execution_count": null,
   "metadata": {},
   "outputs": [],
   "source": [
    "person = (Person('Sam', 'M'))\n",
    "print(\"Name:\", person.name, \"\\nAge:\", person.age, \"\\nGender:\", person.gender, \"\\nHealthy:\", person.healthy)\n",
    "del(person)"
   ]
  },
  {
   "cell_type": "markdown",
   "metadata": {},
   "source": [
    "### 4-1-2. Class variables"
   ]
  },
  {
   "cell_type": "code",
   "execution_count": null,
   "metadata": {},
   "outputs": [],
   "source": [
    "print(\"Life Expectancy:\", Person.life_expectancy)\n",
    "\n",
    "persons = []\n",
    "print(\"Current Population\", Person.population)\n",
    "\n",
    "persons.append(Person('Sam', 'M'))\n",
    "print(\"Current Population\", Person.population)\n",
    "\n",
    "persons.append(Person('Michael', 'M'))\n",
    "print(\"Current Population\", Person.population)\n",
    "\n",
    "persons.append(Person('Emma', 'M'))\n",
    "print(\"Current Population\", Person.population)\n",
    "\n",
    "persons.append(Person('Jane', 'M'))\n",
    "print(\"Current Population\", Person.population)\n",
    "\n",
    "persons.append(Person('Matt', 'M'))\n",
    "print(\"Current Population\", Person.population)"
   ]
  },
  {
   "cell_type": "markdown",
   "metadata": {},
   "source": [
    "### 4-2. Methods"
   ]
  },
  {
   "cell_type": "markdown",
   "metadata": {},
   "source": [
    "### 4-2-1. Instance methods (= member methods)"
   ]
  },
  {
   "cell_type": "code",
   "execution_count": null,
   "metadata": {},
   "outputs": [],
   "source": [
    "for i in range(10):\n",
    "    persons[random.randint(0, len(persons) - 1)].exercise()\n",
    "    print()"
   ]
  },
  {
   "cell_type": "markdown",
   "metadata": {},
   "source": [
    "### 4-2-2. Class methods"
   ]
  },
  {
   "cell_type": "code",
   "execution_count": null,
   "metadata": {},
   "outputs": [],
   "source": [
    "Person.increse_life_expectancy(3)\n",
    "print(Person.life_expectancy)\n",
    "print([person.life_expectancy for person in persons])"
   ]
  },
  {
   "cell_type": "markdown",
   "metadata": {},
   "source": [
    "### 4-2-3. Static methods"
   ]
  },
  {
   "cell_type": "code",
   "execution_count": null,
   "metadata": {},
   "outputs": [],
   "source": [
    "Person.print_status(persons)"
   ]
  },
  {
   "cell_type": "markdown",
   "metadata": {},
   "source": [
    "## 5. Private Member"
   ]
  },
  {
   "cell_type": "code",
   "execution_count": null,
   "metadata": {},
   "outputs": [],
   "source": [
    "print(\"Person Class\")\n",
    "pprint.pprint(Person.__dict__)\n",
    "\n",
    "print(\"\\nPerson Instance\")\n",
    "[pprint.pprint(prop) for prop in dir(persons[0]) if not prop.startswith('__')]\n",
    "pprint.pprint(persons[0].__dict__)\n",
    "\n",
    "print('-' * 50)\n",
    "print(persons[0])\n",
    "# print(person.__ssn)\n",
    "# print(person.ssn)\n",
    "\n",
    "# persons[0].__die()"
   ]
  },
  {
   "cell_type": "markdown",
   "metadata": {},
   "source": [
    "## 6. Namespaces\n",
    "\n",
    "* Detecting property: super namespace -> class namespace -> instance namespace"
   ]
  },
  {
   "cell_type": "code",
   "execution_count": null,
   "metadata": {},
   "outputs": [],
   "source": [
    "class A:\n",
    "    name = 'abc'\n",
    "    \n",
    "    def __init__(self):\n",
    "        self.__a = 'a'\n",
    "        \n",
    "    def change_a(self, a):\n",
    "        self.__a = a\n",
    "        \n",
    "    def __str__(self):\n",
    "        return 'A[name: {}, __a: {}]'.format(self.name, self.__a)"
   ]
  },
  {
   "cell_type": "code",
   "execution_count": null,
   "metadata": {},
   "outputs": [],
   "source": [
    "a1 = A()\n",
    "a2 = A()\n",
    "print(a1.name, a2.name)\n",
    "a1.name = \"name\"\n",
    "print(a1.name, a2.name)\n",
    "print(a1, a2)"
   ]
  },
  {
   "cell_type": "markdown",
   "metadata": {},
   "source": [
    "## 7. Inheritance"
   ]
  },
  {
   "cell_type": "markdown",
   "metadata": {},
   "source": [
    "## 8. Magic Methods"
   ]
  },
  {
   "cell_type": "code",
   "execution_count": null,
   "metadata": {},
   "outputs": [],
   "source": [
    "RACES = {'T': 'T', 'P': 'P', 'Z': 'Z', 'N': 'N'}\n",
    "STATUS = {'N': 'neutral'\n",
    "          , 'M': 'move'\n",
    "          , 'S': 'stop'\n",
    "          , 'H': 'hold'\n",
    "          , 'P': 'patrol'\n",
    "          , 'A': 'attack'\n",
    "          , 'B': 'build_building'\n",
    "          , 'W': 'mineral_mining'\n",
    "          , 'G': 'gas_mining'\n",
    "          , 'P': 'producing'\n",
    "          , 'U': 'under_attacked'\n",
    "          , 'C': 'combat'}\n",
    "\n",
    "\n",
    "class Skill:\n",
    "    def __init__(self, skill_name, delay, damage, cost=None):\n",
    "        self.skill_name = skill_name\n",
    "        self.delay = delay\n",
    "        self.damage = damage\n",
    "        self.cost = cost\n",
    "        \n",
    "\n",
    "class GameObj:\n",
    "    def __init__(self, player, name, hp, mp, sight, coord, cost, create_time, race='N')\n",
    "        self.player = player\n",
    "        self.name = name\n",
    "        self.hp = hp\n",
    "        self.mp = mp\n",
    "        self.race = race\n",
    "\n",
    "        \n",
    "class Unit(GameObj):\n",
    "    attack_delay = 1\n",
    "    def __init__(self, player, name, hp, mp, sight, coord, cost, create_time, race, feed_cnt, damage, attack_range,):\n",
    "        self.unit_name\n",
    "    \n",
    "    def move(self, coord):\n",
    "        self.status = STATUS['M']\n",
    "        self.coord = self.__moving(self.coord)\n",
    "        self.status = STATUS['N']\n",
    "    \n",
    "    def stop(self):\n",
    "        self.status = STATUS['S']\n",
    "    \n",
    "    def patrol(self, coord):\n",
    "        self.status = STATUS['P']\n",
    "    \n",
    "    def attack(self, enemy):\n",
    "        pass\n",
    "    \n",
    "    def under_attack(self, dps)\n",
    "        \n",
    "    def create(self):\n",
    "        pass\n",
    "        \n",
    "    def destory(self):\n",
    "        pass\n",
    "    \n",
    "    def __dps(self):\n",
    "        return damage / self.attack_delay\n",
    "    \n",
    "    def __moving(self, src, dst):\n",
    "        # calc postion src to dst using vector.\n",
    "        return dst\n",
    "        \n",
    "        \n",
    "class Building(GameObj):\n",
    "    def __init__(self)"
   ]
  },
  {
   "cell_type": "code",
   "execution_count": null,
   "metadata": {},
   "outputs": [],
   "source": [
    "l = [random.randint(0, 3) for i in range(50)]"
   ]
  },
  {
   "cell_type": "code",
   "execution_count": null,
   "metadata": {},
   "outputs": [],
   "source": [
    "print(l.count(0))\n",
    "print(l.count(1))\n",
    "print(l.count(2))\n",
    "print(l.count(3))"
   ]
  },
  {
   "cell_type": "code",
   "execution_count": null,
   "metadata": {},
   "outputs": [],
   "source": [
    "for i in range(10):\n",
    "    print(random.random())"
   ]
  },
  {
   "cell_type": "code",
   "execution_count": null,
   "metadata": {},
   "outputs": [],
   "source": [
    "r = random.randint(0, 10)\n",
    "print(r, r / 10 < 0.2)"
   ]
  },
  {
   "cell_type": "code",
   "execution_count": null,
   "metadata": {
    "collapsed": true
   },
   "outputs": [],
   "source": []
  }
 ],
 "metadata": {
  "kernelspec": {
   "display_name": "Python 3",
   "language": "python",
   "name": "python3"
  },
  "language_info": {
   "codemirror_mode": {
    "name": "ipython",
    "version": 3
   },
   "file_extension": ".py",
   "mimetype": "text/x-python",
   "name": "python",
   "nbconvert_exporter": "python",
   "pygments_lexer": "ipython3",
   "version": "3.6.1"
  }
 },
 "nbformat": 4,
 "nbformat_minor": 2
}
