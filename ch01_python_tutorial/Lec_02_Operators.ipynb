{
 "cells": [
  {
   "cell_type": "code",
   "execution_count": 1,
   "metadata": {},
   "outputs": [
    {
     "data": {
      "text/html": [
       "<style>\n",
       "    table {float:left}\n",
       "    text-align: left\n",
       "</style>"
      ],
      "text/plain": [
       "<IPython.core.display.HTML object>"
      ]
     },
     "metadata": {},
     "output_type": "execute_result"
    }
   ],
   "source": [
    "%%html\n",
    "<style>\n",
    "    table {float:left}\n",
    "    text-align: left\n",
    "</style>"
   ]
  },
  {
   "cell_type": "markdown",
   "metadata": {},
   "source": [
    "### Priority of operators\n",
    "\n",
    "* The following table lists all operators from highest precedence to lowest.\n",
    "\n",
    "| Operator |\tDescription\t|\n",
    "|:-----------:|:-----------|\n",
    "| `**` | Exponentiation (raise to the power)\t|\n",
    "| `~ + -` |\tComplement, unary plus and minus (method names for the last two are +@ and -@) |\n",
    "| `* / % //` | Multiply, divide, modulo and floor division |\n",
    "| `+ -` | Addition and subtraction |\n",
    "| `>> <<` |\tRight and left bitwise shift\t|\n",
    "| `&` |\tBitwise 'AND' |\n",
    "| <code>^ &#124;</code> | Bitwise 'exclusive OR(=XOR)' and 'OR' |\n",
    "| `<= < > >=` |\tComparison operators | \n",
    "| `== !=` | Equality operators |\n",
    "| `= %= /= //= *= **= -= +=` | Assignment operators |\n",
    "| `is is not` |\tIdentity operators |\n",
    "| `in not in` | Membership operators |\n",
    "| `not or and` | Logical operators |"
   ]
  },
  {
   "cell_type": "code",
   "execution_count": 2,
   "metadata": {},
   "outputs": [
    {
     "name": "stdout",
     "output_type": "stream",
     "text": [
      "-------Test '**' operator-------\n",
      "pow(2, 4)      =  16\n",
      "pow(2, -1)     =  0.5\n",
      "pow(12.3, 3.4) =  5077.820901193748\n"
     ]
    }
   ],
   "source": [
    "# ** power\n",
    "print(\"-------Test \\'**\\' operator-------\")\n",
    "print(\"pow(2, 4)      = \", 2 ** 4)\n",
    "print(\"pow(2, -1)     = \", 2 ** -1)\n",
    "print(\"pow(12.3, 3.4) = \", 12.3 ** 3.4)"
   ]
  },
  {
   "cell_type": "code",
   "execution_count": 3,
   "metadata": {},
   "outputs": [
    {
     "name": "stdout",
     "output_type": "stream",
     "text": [
      "-------Test '+' operator-------\n",
      "+4          =  4\n",
      "\n",
      "-------Test '-' operator-------\n",
      "-100        =  -100\n",
      "+-25        =  -25\n",
      "-+25        =  -25\n",
      "--25        =  25\n",
      "\n",
      "-------Test '~' operator-------\n",
      "~ 4         =  -5\n",
      "~ 2 ** 3    =  -9\n",
      "~ False(=0) =  -1\n",
      "~ True(=1)  =  -2\n",
      "~ -2        =  1\n"
     ]
    }
   ],
   "source": [
    "# ~, +, - (Unary operators 단항 연산자)\n",
    "\n",
    "# +\n",
    "print(\"-------Test \\'+\\' operator-------\")\n",
    "print(\"+4          = \", + 4)\n",
    "print()\n",
    "\n",
    "# -\n",
    "print(\"-------Test \\'-\\' operator-------\")\n",
    "print(\"-100        = \", - 100)\n",
    "print(\"+-25        = \", + - 25) # +(-25)\n",
    "print(\"-+25        = \", - + 25) # -(+25)\n",
    "print(\"--25        = \", - -25) # -(-25)\n",
    "print()\n",
    "\n",
    "# ~ : one`s complement(1의 보수), 직접적으로 int가 될 수 있는 type만 사용가능.  보수 개념은 궁금하면 알아서 찾아봅시다!!\n",
    "print(\"-------Test \\'~\\' operator-------\")\n",
    "print(\"~ 4         = \", ~ 4)\n",
    "print(\"~ 2 ** 3    = \", ~ 2 ** 3) # 연산자 우선순위에 따라 ** 먼저 계산 (= ~8) \n",
    "print(\"~ False(=0) = \", ~ False)\n",
    "print(\"~ True(=1)  = \", ~ True)\n",
    "print(\"~ -2        = \", ~ -2) # ~ 와 - 같은 우선순위이기 때문에 피연산자와 가까운 - 연산 먼저 수행됨. (= ~(-2) )"
   ]
  },
  {
   "cell_type": "code",
   "execution_count": 4,
   "metadata": {},
   "outputs": [
    {
     "name": "stdout",
     "output_type": "stream",
     "text": [
      "-------Test '*' operator-------\n",
      "4.3 * 2.5      =  10.75\n",
      "'abc' * 3    =  abcabcabc\n",
      "[1, 2, 3] * 2  =  [1, 2, 3, 1, 2, 3]\n",
      "(1, 2, 3) * 2  =  (1, 2, 3, 1, 2, 3)\n",
      "\n",
      "-------Test '/' operator-------\n",
      "4 / 2          =  2.0\n",
      "<class 'float'> <class 'int'>\n",
      "4.3 / 2.5      =  1.72\n",
      "\n",
      "-------Test '%' operator-------\n",
      "45 % 6.1       =  2.3000000000000025\n",
      "format string   32, 123.34000, abc\n",
      "\n",
      "-------Test '//' operator-------\n",
      "45 // 6.0      =  7.0\n"
     ]
    }
   ],
   "source": [
    "# 산술 연산의 경우 피연산자 중 더 큰 type에서 연산이 수행됨. int(n1) * float(n2) = float(int(n1)) * float(n2) => float(n1*n2)\n",
    "# *\n",
    "print(\"-------Test \\'*\\' operator-------\")\n",
    "print(\"4.3 * 2.5      = \", 4.3 * 2.5) # 숫자 간 연산 시 -> multiply\n",
    "print(\"\\'abc\\' * 3    = \", 'abc' * 3) # string, list, tuple * n: integer -> repeat n\n",
    "print(\"[1, 2, 3] * 2  = \", [1, 2, 3] * 2)\n",
    "print(\"(1, 2, 3) * 2  = \", (1, 2, 3) * 2)\n",
    "print()\n",
    "\n",
    "# /\n",
    "print(\"-------Test \\'/\\' operator-------\")\n",
    "# x / y 의 연산 결과는 항상 실수(float) 타입이므로 주의할 것.\n",
    "print(\"4 / 2          = \", 4 / 2) # 숫자 간 연산 시 -> divide\n",
    "print(type( 4 / 2 ), type( int(4 / 2)) ) # 만약 int 타입을 사용해야한다면 // 연산, 혹은 명시적으로 int(x/y) type casting 할 것.\n",
    "print(\"4.3 / 2.5      = \", 4.3 / 2.5)\n",
    "print()\n",
    "\n",
    "# %\n",
    "print(\"-------Test \\'%\\' operator-------\")\n",
    "print(\"45 % 6.1       = \", 45 % 6.1) # modulo\n",
    "print(\"format string %4d, %4.5f, %s\" % (32, 123.34, 'abc')) # format string 만들 때 사용.\n",
    "print()\n",
    "\n",
    "# //\n",
    "print(\"-------Test \\'//\\' operator-------\")\n",
    "print(\"45 // 6.0      = \", 45 // 6.0) # divide but only get quotient"
   ]
  },
  {
   "cell_type": "code",
   "execution_count": 5,
   "metadata": {},
   "outputs": [
    {
     "name": "stdout",
     "output_type": "stream",
     "text": [
      "4 + -5.0              =  -1.0\n",
      "'s' + 't' + 'r' =  str\n",
      "[1, 2, 3] + [2, 3]    =  [1, 2, 3, 2, 3]\n",
      "(1, 2, 3) + (2, 3)    =  (1, 2, 3, 2, 3)\n"
     ]
    }
   ],
   "source": [
    "# +\n",
    "print(\"4 + -5.0              = \", 4 + -5.0) # 연산자 우선순위에 따라 -(단항 연산자) 먼저 계산, 정수 + 실수 => 실수\n",
    "print(\"\\'s\\' + \\'t\\' + \\'r\\' = \", 's' + 't' + 'r') # str + str => string concatenation\n",
    "print(\"[1, 2, 3] + [2, 3]    = \", [1, 2, 3] + [2, 3]) # list + list => list concatenation\n",
    "print(\"(1, 2, 3) + (2, 3)    = \", (1, 2, 3) + (2, 3)) # tuple + tuple => tuple concatenation\n",
    "# print(\"(1, 2, 3) + (4)       = \", (1, 2, 3) + (4)) # Error code!!!"
   ]
  },
  {
   "cell_type": "code",
   "execution_count": 6,
   "metadata": {},
   "outputs": [
    {
     "name": "stdout",
     "output_type": "stream",
     "text": [
      "-------Test '>>' operator-------\n",
      "2 ** 10 >> 8     =  4\n",
      "0b101011101 >> 2 =  0b1010111\n",
      "\n",
      "-------Test '<<' operator-------\n",
      "2 ** 10 << 8     =  262144\n",
      "0b101011101 << 2 =  0b10101110100 (=1396)\n"
     ]
    }
   ],
   "source": [
    "# >> shift bits right side\n",
    "print(\"-------Test \\'>>\\' operator-------\")\n",
    "print(\"2 ** 10 >> 8     = \", 2 ** 10 >> 8) # =(2 ** 10) * (2 ** -8) \n",
    "# 2 ** 10 = 0b10000000000\n",
    "# 0b10000000000 >> 8 = 0b00000000100\n",
    "print('0b101011101 >> 2 = ', bin(0b101011101 >> 2))\n",
    "print()\n",
    "\n",
    "# << shift bits left side\n",
    "print(\"-------Test \\'<<\\' operator-------\")\n",
    "print(\"2 ** 10 << 8     = \", 2 ** 10 << 8) # =(2 ** 10) * (2 ** 8) \n",
    "print('0b101011101 << 2 = ', bin(0b101011101 << 2), \"(=\" + str(0b101011101 << 2) + \")\")"
   ]
  },
  {
   "cell_type": "code",
   "execution_count": 7,
   "metadata": {},
   "outputs": [
    {
     "name": "stdout",
     "output_type": "stream",
     "text": [
      "-------Test '&' operator-------\n",
      "0b101001 & 0b10001 =  0b1\n",
      "0b101001 & 0b1111  =  0b1001\n",
      "{1, 2, 3, 7} & {3, 4, 5, 6 ,7} =  {3, 7}\n"
     ]
    }
   ],
   "source": [
    "# & : bitwise AND\n",
    "# 0 & 0 = 0\n",
    "# 0 & 1 = 0\n",
    "# 1 & 0 = 0\n",
    "# 1 & 1 = 1\n",
    "print(\"-------Test \\'&\\' operator-------\")\n",
    "print('0b101001 & 0b10001 = ', bin(0b101001 & 0b10001)) # 41 & 17\n",
    "print('0b101001 & 0b1111  = ', bin(0b101001 & 0b1111)) # 41 & 15\n",
    "\n",
    "# set & set = intersection\n",
    "print(\"{1, 2, 3, 7} & {3, 4, 5, 6 ,7} = \", {1, 2, 3, 7} & {3, 4, 5, 6 ,7})"
   ]
  },
  {
   "cell_type": "code",
   "execution_count": 8,
   "metadata": {},
   "outputs": [
    {
     "name": "stdout",
     "output_type": "stream",
     "text": [
      "-------Test '&' operator-------\n",
      "0b101001 | 0b10001 =  0b111001\n",
      "0b101001 | 0b1111  =  0b101111\n",
      "{1, 2, 3, 7} | {3, 4, 5, 6 ,7} =  {1, 2, 3, 4, 5, 6, 7}\n",
      "\n",
      "-------Test '&' operator-------\n",
      "0b101001 ^ 0b10001 =  0b111000\n",
      "0b101001 ^ 0b1111  =  0b100110\n",
      "{1, 2, 3, 7} ^ {3, 4, 5, 6 ,7} =  {1, 2, 4, 5, 6}\n"
     ]
    }
   ],
   "source": [
    "# | : bitwise OR\n",
    "# 0 | 0 = 0\n",
    "# 0 | 1 = 1\n",
    "# 1 | 0 = 1\n",
    "# 1 | 1 = 1\n",
    "print(\"-------Test \\'&\\' operator-------\")\n",
    "print('0b101001 | 0b10001 = ', bin(0b101001 | 0b10001)) # 41 | 17\n",
    "print('0b101001 | 0b1111  = ', bin(0b101001 | 0b1111)) # 41 | 15\n",
    "\n",
    "# set | set = union\n",
    "print(\"{1, 2, 3, 7} | {3, 4, 5, 6 ,7} = \", {1, 2, 3, 7} | {3, 4, 5, 6 ,7})\n",
    "print()\n",
    "\n",
    "# ^ : bitwise XOR\n",
    "# 0 ^ 0 = 0\n",
    "# 0 ^ 1 = 1\n",
    "# 1 ^ 0 = 1\n",
    "# 1 ^ 1 = 0\n",
    "print(\"-------Test \\'&\\' operator-------\")\n",
    "print('0b101001 ^ 0b10001 = ', bin(0b101001 ^ 0b10001)) # 41 ^ 17\n",
    "print('0b101001 ^ 0b1111  = ', bin(0b101001 ^ 0b1111)) # 41 ^ 15\n",
    "\n",
    "# set ^ set = union - intersection\n",
    "print(\"{1, 2, 3, 7} ^ {3, 4, 5, 6 ,7} = \", {1, 2, 3, 7} ^ {3, 4, 5, 6 ,7})"
   ]
  },
  {
   "cell_type": "code",
   "execution_count": 9,
   "metadata": {},
   "outputs": [
    {
     "name": "stdout",
     "output_type": "stream",
     "text": [
      "-------Test '<' operator-------\n",
      "1 + 1.343 ** 2 < 5           =  True\n",
      "\"A\" < \"!\"                    =  False\n",
      "[1, 2, 3] < [4, -1, -23423]  =  True\n",
      "\n",
      "-------Test '<=' operator-------\n",
      "1 + 1.343 ** 2 <= 2.803649   =  True\n",
      "\"A\" <= \"!\"                   =  True\n",
      "(1, 2, 3) <= (4, -1, -23423) =  True\n",
      "\n",
      "-------Test '>' operator-------\n",
      "1 + 1.343 ** -2 > 5          =  False\n",
      "\"A\" > \"!\"                    =  False\n",
      "(1, 2, 3) > (4, -1, -23423)  =  False\n",
      "\n",
      "-------Test '>=' operator-------\n",
      "-10 + 1.343 * 9 >= 2         =  True\n",
      "\"A\" >= \"!\"                   =  True\n",
      "[1, 2, 3] >= [4, -1, -23423] =  False\n"
     ]
    }
   ],
   "source": [
    "# <\n",
    "print(\"-------Test \\'<\\' operator-------\")\n",
    "print(\"1 + 1.343 ** 2 < 5           = \", 1 + 1.343 ** 2 < 5) # less than\n",
    "print('\\\"A\\\" < \\\"!\\\"                    = ', \"A\" < \"!\")\n",
    "print(\"[1, 2, 3] < [4, -1, -23423]  = \", [1, 2, 3] < [4, -1, -23423])\n",
    "# print([1, 2, 3] < ['1', '2', '3']) # Error ocur! Cannot compare 'int' to 'str'\\\n",
    "print()\n",
    "\n",
    "# <=\n",
    "print(\"-------Test \\'<=\\' operator-------\")\n",
    "print(\"1 + 1.343 ** 2 <= 2.803649   = \", 1 + 1.343 ** 2 <= 2.803649) # less equals\n",
    "print('\\\"A\\\" <= \\\"!\\\"                   = ', \"A\" <= \"A\")\n",
    "print(\"(1, 2, 3) <= (4, -1, -23423) = \", (1, 2, 3) <= (4, -1, -23423))\n",
    "print()\n",
    "\n",
    "# >\n",
    "print(\"-------Test \\'>\\' operator-------\")\n",
    "print(\"1 + 1.343 ** -2 > 5          = \", 1 + 1.343 ** -2 > 5) # greater than\n",
    "print('\\\"A\\\" > \\\"!\\\"                    = ', \"A\" > \"a\")\n",
    "print(\"(1, 2, 3) > (4, -1, -23423)  = \", (1, 2, 3) > (4, -1, -23423))\n",
    "print()\n",
    "\n",
    "# >=\n",
    "print(\"-------Test \\'>=\\' operator-------\")\n",
    "print(\"-10 + 1.343 * 9 >= 2         = \", -10 + 1.343 * 9 >= 2) # greater equals\n",
    "print('\\\"A\\\" >= \\\"!\\\"                   = ', \"A\" >= \"1\")\n",
    "print(\"[1, 2, 3] >= [4, -1, -23423] = \", [1, 2, 3] >= [4, -1, -23423])"
   ]
  },
  {
   "cell_type": "code",
   "execution_count": 10,
   "metadata": {},
   "outputs": [
    {
     "name": "stdout",
     "output_type": "stream",
     "text": [
      "-------Test '==' operator-------\n",
      "int: 10         > True\n",
      "str: 'string'   >  True\n",
      "list [1, 2, 3]  >  True\n",
      "tuple (1, 2, 3) >  True\n",
      "set{'a','b','c'} >  True\n"
     ]
    }
   ],
   "source": [
    "from decimal import Decimal\n",
    "# == : equals,  != : not equals\n",
    "print(\"-------Test \\'==\\' operator-------\")\n",
    "print(\"int: 10         >\", int('10') == int(10) == Decimal(10) == 10 == float(10) == 10.0 == 2.0 * 5 == 0b1010 == 0xa)\n",
    "print(\"str: 'string'   > \", \"string\" == 'string' == '''string''' == \"\"\"string\"\"\" == 's'+'''t'''+\"r\"+chr(105)+'n\\\n",
    "'+'g') # chr(105) = 'i', 'i' -> ascii value 105\n",
    "print(\"list [1, 2, 3]  > \", [1, 2, 3] == [1, 2, 3] == [1] + [2] + [3] == []+[1, 2, 3])\n",
    "print(\"tuple (1, 2, 3) > \", (1, 2, 3) == (1, 2, 3) == tuple([1] + [2] + [3]))\n",
    "print(\"set{'a','b','c'} > \", {'a','b','c'} == set(['a','b','c']) == frozenset(['a','b','c']))"
   ]
  },
  {
   "cell_type": "code",
   "execution_count": 11,
   "metadata": {},
   "outputs": [
    {
     "name": "stdout",
     "output_type": "stream",
     "text": [
      "-------Test '+=' operator-------\n",
      "string = abc\n",
      "string = abcdef\n",
      "-------Test '-=' operator-------\n",
      "str_set = {'c', 'a', 'b'}\n",
      "str_set = {'c', 'b'}\n",
      "-------Test '*=' operator-------\n",
      "num_list = [1, 2, 3]\n",
      "num_list = [1, 2, 3, 1, 2, 3]\n",
      "-------Test '/=' operator-------\n",
      "num = 100\n",
      "num = 1.3333333333333333\n"
     ]
    }
   ],
   "source": [
    "# +=\n",
    "print(\"-------Test \\'+=\\' operator-------\")\n",
    "string = \"abc\"\n",
    "print(\"string =\", string)\n",
    "string += \"def\" # string = string + \"def\"\n",
    "print(\"string =\", string)\n",
    "\n",
    "# -=\n",
    "print(\"-------Test \\'-=\\' operator-------\")\n",
    "str_set = {'a', 'b', 'c'}\n",
    "print(\"str_set =\", str_set)\n",
    "str_set -= {'a','d','f'} # str_set = str_set - {'a','d','f'}\n",
    "print(\"str_set =\", str_set) \n",
    "\n",
    "# *=\n",
    "print(\"-------Test \\'*=\\' operator-------\")\n",
    "num_list = [1, 2, 3]\n",
    "print(\"num_list =\", num_list)\n",
    "num_list *= 2\n",
    "print(\"num_list =\", num_list)\n",
    "\n",
    "# /=\n",
    "print(\"-------Test \\'/=\\' operator-------\")\n",
    "num = 100\n",
    "print(\"num =\", num)\n",
    "num /= 75 # num = num / 100\n",
    "print(\"num =\", num) \n"
   ]
  },
  {
   "cell_type": "code",
   "execution_count": 12,
   "metadata": {},
   "outputs": [
    {
     "name": "stdout",
     "output_type": "stream",
     "text": [
      "-------Test 'is' operator-------\n",
      "list_1 is list_2     =  True\n",
      "list_1 is [1, 2, 3]  =  False\n",
      "\"a123\" is 'a123'     =  True\n",
      "\"a\" is str(\"a\")      =  True\n",
      "'abc' is 'a'+'b'+'c' =  True\n",
      "12.3 is 12.3         =  True\n",
      "1 is True            =  False\n",
      "100 is 100.0         =  False\n",
      "-10 is -2*5          =  False\n",
      "-123 is -int(123)    =  False\n"
     ]
    }
   ],
   "source": [
    "# is / is not\n",
    "# Commons object\n",
    "print(\"-------Test \\'is\\' operator-------\")\n",
    "list_1 = [1, 2, 3]\n",
    "list_2 = list_1\n",
    "print(\"list_1 is list_2     = \", list_1 is list_2)\n",
    "print(\"list_1 is [1, 2, 3]  = \", list_1 is [1, 2, 3])\n",
    "# String literal\n",
    "print(\"\\\"a123\\\" is 'a123'     = \", \"a123\" is 'a123')\n",
    "print('\"a\" is str(\"a\")      = ', \"a\" is str(\"a\"))\n",
    "print(\"'abc' is 'a'+'b'+'c' = \", 'abc' is 'a'+'b'+'c')\n",
    "# Numeric constant\n",
    "print(\"12.3 is 12.3         = \", 12.3 is 12.3)\n",
    "print(\"1 is True            = \", 1 is True)\n",
    "print(\"100 is 100.0         = \", 100 is 100.0)\n",
    "print(\"-10 is -2*5          = \", -10 is -2*5)\n",
    "print(\"-123 is -int(123)    = \", -123 is -int(123))"
   ]
  },
  {
   "cell_type": "code",
   "execution_count": 13,
   "metadata": {},
   "outputs": [
    {
     "name": "stdout",
     "output_type": "stream",
     "text": [
      "-------Test 'in' / 'not in' operator-------\n",
      "'cheon' in 'Incheon'         >  True\n",
      "'Gwacheon' in 'Gwacheon'     >  True\n",
      "\"gwacheon\" not in \"Gwacheon\" >  True\n",
      "6 in [2**4+1, 5%3, 4|2]      >  True\n",
      "(2) in (1, (2, 3), 4)        >  False\n",
      "(2, 3) in (1, (2, 3), 4)     >  True\n",
      "['1', '2'] in ['1', '2']     >  False\n"
     ]
    }
   ],
   "source": [
    "# in / not in : To check some sequence contains a element. \n",
    "# element in | not in sequence\n",
    "print(\"-------Test \\'in\\' / \\'not in\\' operator-------\")\n",
    "print(\"'cheon' in 'Incheon'         > \", \"cheon\" in \"Incheon\")\n",
    "print(\"'Gwacheon' in 'Gwacheon'     > \", \"Gwacheon\" in \"Gwacheon\")\n",
    "print('\"gwacheon\" not in \"Gwacheon\" > ', \"gwacheon\" not in \"Gwacheon\")\n",
    "print('6 in [2**4+1, 5%3, 4|2]      > ', 6 in [2**4+1, 5%3, 4|2])\n",
    "print(\"(2) in (1, (2, 3), 4)        > \", (2) in (1, (2, 3), 4))\n",
    "print(\"(2, 3) in (1, (2, 3), 4)     > \", (2, 3) in (1, (2, 3), 4))\n",
    "print(\"['1', '2'] in ['1', '2']     > \", ['1', '2'] in ['1', '2'])"
   ]
  },
  {
   "cell_type": "code",
   "execution_count": 14,
   "metadata": {},
   "outputs": [
    {
     "name": "stdout",
     "output_type": "stream",
     "text": [
      "-------Test 'not' operator-------\n",
      "not True       >  False\n",
      "not False      >  True\n",
      "not \"\"         >  True\n",
      "not \"s\"        >  False\n",
      "not -132       >  False\n",
      "not 0          >  True\n",
      "not []         >  True\n",
      "not [1]        >  False\n",
      "not dict()     >  True\n",
      "not {'k': 'v'} >  False\n",
      "\n",
      "-------Test 'or' operator-------\n",
      "False\n",
      "\n",
      "-------Test 'and' operator-------\n",
      "True\n"
     ]
    }
   ],
   "source": [
    "# not\n",
    "print(\"-------Test \\'not\\' operator-------\")\n",
    "print(\"not True       > \", not True)\n",
    "print(\"not False      > \", not False)\n",
    "print('not \"\"         > ', not \"\")\n",
    "print('not \"s\"        > ', not \"s\")\n",
    "print(\"not -132       > \", not -132)\n",
    "print(\"not 0          > \", not 0)\n",
    "print(\"not []         > \", not [])\n",
    "print(\"not [1]        > \", not [1])\n",
    "print(\"not dict()     > \", not dict())\n",
    "print(\"not {'k': 'v'} > \", not {'k': 'v'})\n",
    "print()\n",
    "\n",
    "# or\n",
    "print(\"-------Test \\'or\\' operator-------\")\n",
    "print( -9 + 12 % 2**3 + 6 in [1, 2, 3] == True or False)\n",
    "print()\n",
    "\n",
    "# and\n",
    "print(\"-------Test \\'and\\' operator-------\")\n",
    "print(3 | 4 - 2 // 2 == 3 and ([-1, 0, 1] + [1, 2, 3])[0] is -1 )"
   ]
  },
  {
   "cell_type": "markdown",
   "metadata": {},
   "source": [
    "### Other Operators\n",
    "\n",
    "| Operator |\tDescription\t|\n",
    "|:-----------:|:-----------|\n",
    "| `isinstance` | Confirm instance of an object |\n",
    "| `[]` | Access element |\n",
    "| `()` | Call any callable objects |\n",
    "| `.` | Reference attributes |\n",
    "| `\\` | Line concat |"
   ]
  },
  {
   "cell_type": "code",
   "execution_count": 15,
   "metadata": {},
   "outputs": [
    {
     "name": "stdout",
     "output_type": "stream",
     "text": [
      "False\n",
      "True\n"
     ]
    }
   ],
   "source": [
    "# isinstance (not Operator. this is function)\n",
    "# 인스턴스가 해당 타입인지 검사한다.\n",
    "print(isinstance(\"asd\", list))\n",
    "print(isinstance(\"asd\", (str, list)))"
   ]
  },
  {
   "cell_type": "code",
   "execution_count": 16,
   "metadata": {},
   "outputs": [
    {
     "name": "stdout",
     "output_type": "stream",
     "text": [
      "-------Test '[]' operator-------\n",
      "cde\n",
      "6\n",
      "23\n"
     ]
    }
   ],
   "source": [
    "# []\n",
    "print(\"-------Test \\'[]\\' operator-------\")\n",
    "print(\"abcdefghijklm\"[2:5])\n",
    "print([1, 2, 3, 4, 5, 6, 7, 8, 9, 10][-5])\n",
    "print({'John': 23, 'Hannah': 27, 'Charlottes': 31}['John'])"
   ]
  },
  {
   "cell_type": "code",
   "execution_count": 17,
   "metadata": {},
   "outputs": [
    {
     "name": "stdout",
     "output_type": "stream",
     "text": [
      "-------Test '[]' operator-------\n",
      "True\n",
      "True\n",
      "True\n",
      "True\n",
      "True\n",
      "\n",
      "False\n"
     ]
    }
   ],
   "source": [
    "# ()\n",
    "print(\"-------Test \\'[]\\' operator-------\")\n",
    "def func():\n",
    "    pass\n",
    "\n",
    "class MyClass:\n",
    "    def __init__(self):\n",
    "        pass\n",
    "\n",
    "\n",
    "print(callable(func))\n",
    "func()\n",
    "\n",
    "print(callable(MyClass))\n",
    "MyClass()\n",
    "\n",
    "print(callable(int))\n",
    "int()\n",
    "\n",
    "print(callable([].append))\n",
    "[].append(1)\n",
    "\n",
    "print(callable(print))\n",
    "print()\n",
    "\n",
    "print(callable(\"\"))\n",
    "# \"\"() # Error \"\" is not callable"
   ]
  },
  {
   "cell_type": "code",
   "execution_count": 19,
   "metadata": {},
   "outputs": [
    {
     "name": "stdout",
     "output_type": "stream",
     "text": [
      "-------Test '.' operator-------\n",
      "1\n",
      "123\n"
     ]
    }
   ],
   "source": [
    "# . (dot) : Reference to its properties \n",
    "# cf. dir(object)\n",
    "print(\"-------Test \\'.\\' operator-------\")\n",
    "print(\"abc\".index('b'))\n",
    "\n",
    "class MyClass:\n",
    "    def __init__(self, i):\n",
    "        self.i = i\n",
    "print(MyClass(123).i)"
   ]
  },
  {
   "cell_type": "code",
   "execution_count": 20,
   "metadata": {},
   "outputs": [
    {
     "data": {
      "text/plain": [
       "'이제 끝났다.'"
      ]
     },
     "execution_count": 20,
     "metadata": {},
     "output_type": "execute_result"
    }
   ],
   "source": [
    "# \\ : 줄 바꿈을 명시적으로 표시함. \n",
    "# 파이썬 인터프리터는 기본적으로 한 줄씩 읽어 실행하기 때문에 \\를 사용해서 현재 라인의 내용이 다음 라인과 연결된다고 명시적으로 선언해야함.\n",
    "\"이제 끝\\\n",
    "났다.\""
   ]
  },
  {
   "cell_type": "code",
   "execution_count": 21,
   "metadata": {},
   "outputs": [
    {
     "name": "stdout",
     "output_type": "stream",
     "text": [
      "+ ->  ['a', 'b', 'c', '1', '2', '3']\n",
      "* ->  ['a', 'b', 'c', 'a', 'b', 'c', 'a', 'b', 'c', 'a', 'b', 'c']\n",
      "== ->  False\n",
      "!= ->  True\n",
      "< ->  False\n",
      "<= ->  False\n"
     ]
    }
   ],
   "source": [
    "# [ + * == != < <= > => ]\n",
    "list_1 = ['a', 'b', 'c']\n",
    "list_2 = [\"1\", \"2\", \"3\"]\n",
    "print(\"+ -> \", list_1 + list_2) # concat\n",
    "print(\"* -> \", list_1 * 4)\n",
    "print(\"== -> \", list_1 == list_2)\n",
    "print(\"!= -> \", list_1 != list_2)\n",
    "print(\"< -> \", list_1 < list_2)\n",
    "print(\"<= -> \", list_1 <= list_2)"
   ]
  },
  {
   "cell_type": "code",
   "execution_count": 22,
   "metadata": {},
   "outputs": [
    {
     "name": "stdout",
     "output_type": "stream",
     "text": [
      "- ->  {1, 2}\n",
      "& ->  {3, 4}\n",
      "^ ->  {1, 2, 5}\n",
      "| ->  {1, 2, 3, 4, 5}\n",
      "== ->  False\n",
      "!= ->  True\n",
      "> ->  False\n",
      ">= ->  False\n"
     ]
    }
   ],
   "source": [
    "# [ - & | ^ == != < <= > >=]\n",
    "set_1 = {1, 2, 3, 4}\n",
    "set_2 = {3, 4, 5}\n",
    "print(\"- -> \", set_1 - set_2)\n",
    "print(\"& -> \", set_1 & set_2)\n",
    "print(\"^ -> \", set_1 ^ set_2)\n",
    "print(\"| -> \", set_1 | set_2)\n",
    "print(\"== -> \", set_1 == set_2)\n",
    "print(\"!= -> \", set_1 != set_2)\n",
    "print(\"> -> \", set_1 > set_2)\n",
    "print(\">= -> \", set_1 >= set_2)"
   ]
  },
  {
   "cell_type": "code",
   "execution_count": null,
   "metadata": {
    "collapsed": true
   },
   "outputs": [],
   "source": []
  }
 ],
 "metadata": {
  "kernelspec": {
   "display_name": "Python 3",
   "language": "python",
   "name": "python3"
  },
  "language_info": {
   "codemirror_mode": {
    "name": "ipython",
    "version": 3
   },
   "file_extension": ".py",
   "mimetype": "text/x-python",
   "name": "python",
   "nbconvert_exporter": "python",
   "pygments_lexer": "ipython3",
   "version": "3.6.1"
  }
 },
 "nbformat": 4,
 "nbformat_minor": 2
}
