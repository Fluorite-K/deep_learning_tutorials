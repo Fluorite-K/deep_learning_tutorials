{
 "cells": [
  {
   "cell_type": "markdown",
   "metadata": {},
   "source": [
    "### Loop\n",
    "* ```for``` loop\n",
    "* ```while``` loop"
   ]
  },
  {
   "cell_type": "code",
   "execution_count": 1,
   "metadata": {},
   "outputs": [
    {
     "name": "stdout",
     "output_type": "stream",
     "text": [
      "0\n",
      "1\n",
      "2\n",
      "3\n",
      "4\n",
      "5\n",
      "6\n",
      "7\n",
      "8\n",
      "9\n"
     ]
    }
   ],
   "source": [
    "# for 주로 반복 횟수가 정해져 있을 경우 사용.\n",
    "# for 변수명 in Iterable:\n",
    "#    statements\n",
    "\n",
    "# range(stop) -> 0 to stop (stop: exclusive)\n",
    "for var in range(10):\n",
    "    print(var)"
   ]
  },
  {
   "cell_type": "code",
   "execution_count": 2,
   "metadata": {},
   "outputs": [
    {
     "name": "stdout",
     "output_type": "stream",
     "text": [
      "10\n",
      "11\n",
      "12\n",
      "13\n",
      "14\n",
      "15\n",
      "16\n",
      "17\n",
      "18\n",
      "19\n"
     ]
    }
   ],
   "source": [
    "# range(start, stop) start: inclusive, stop: exclusive\n",
    "for var in range(10, 20):\n",
    "    print(var)"
   ]
  },
  {
   "cell_type": "code",
   "execution_count": 3,
   "metadata": {},
   "outputs": [
    {
     "name": "stdout",
     "output_type": "stream",
     "text": [
      "1\n",
      "3\n",
      "5\n",
      "7\n",
      "9\n"
     ]
    }
   ],
   "source": [
    "# range(start, stop, step) using step \n",
    "for var in range(1, 10, 2):\n",
    "    print(var)"
   ]
  },
  {
   "cell_type": "code",
   "execution_count": 4,
   "metadata": {},
   "outputs": [
    {
     "name": "stdout",
     "output_type": "stream",
     "text": [
      "10\n",
      "9\n",
      "8\n",
      "7\n",
      "6\n",
      "5\n",
      "4\n",
      "3\n",
      "2\n",
      "1\n"
     ]
    }
   ],
   "source": [
    "for var in range(10, 0, -1):\n",
    "    print(var)"
   ]
  },
  {
   "cell_type": "code",
   "execution_count": 5,
   "metadata": {},
   "outputs": [
    {
     "name": "stdout",
     "output_type": "stream",
     "text": [
      "jenny\n",
      "michael\n",
      "amy\n",
      "john\n"
     ]
    }
   ],
   "source": [
    "for name in {'john', 'jenny', 'amy', 'michael'}: # Iterate set\n",
    "    print(name)"
   ]
  },
  {
   "cell_type": "code",
   "execution_count": 6,
   "metadata": {},
   "outputs": [
    {
     "name": "stdout",
     "output_type": "stream",
     "text": [
      "john\n",
      "jenny\n",
      "amy\n",
      "michael\n"
     ]
    }
   ],
   "source": [
    "for name in ['john', 'jenny', 'amy', 'michael']: # Iterate list\n",
    "    print(name)"
   ]
  },
  {
   "cell_type": "code",
   "execution_count": 7,
   "metadata": {},
   "outputs": [
    {
     "name": "stdout",
     "output_type": "stream",
     "text": [
      "john\n",
      "jenny\n",
      "amy\n",
      "michael\n"
     ]
    }
   ],
   "source": [
    "for name in ('john', 'jenny', 'amy', 'michael'): # Iterate tuple\n",
    "    print(name)"
   ]
  },
  {
   "cell_type": "code",
   "execution_count": 8,
   "metadata": {},
   "outputs": [
    {
     "name": "stdout",
     "output_type": "stream",
     "text": [
      "<class 'str'> john\n",
      "<class 'str'> jenny\n",
      "<class 'str'> amy\n",
      "<class 'str'> michael\n"
     ]
    }
   ],
   "source": [
    "for person in {'john':24, 'jenny':21, 'amy':27, 'michael':19}: # Iterate dict\n",
    "    print(type(person), person)"
   ]
  },
  {
   "cell_type": "code",
   "execution_count": 9,
   "metadata": {},
   "outputs": [
    {
     "name": "stdout",
     "output_type": "stream",
     "text": [
      "<class 'tuple'> ('john', 24)\n",
      "<class 'tuple'> ('jenny', 21)\n",
      "<class 'tuple'> ('amy', 27)\n",
      "<class 'tuple'> ('michael', 19)\n"
     ]
    }
   ],
   "source": [
    "for person in {'john':24, 'jenny':21, 'amy':27, 'michael':19}.items(): # Iterate dict.items()\n",
    "    print(type(person), person)"
   ]
  },
  {
   "cell_type": "code",
   "execution_count": 10,
   "metadata": {},
   "outputs": [
    {
     "name": "stdout",
     "output_type": "stream",
     "text": [
      "c\n",
      "h\n",
      "a\n",
      "r\n",
      "a\n",
      "c\n",
      "t\n",
      "e\n",
      "r\n",
      "s\n"
     ]
    }
   ],
   "source": [
    "for char in \"characters\": # Iterate str\n",
    "    print(char)"
   ]
  },
  {
   "cell_type": "code",
   "execution_count": 11,
   "metadata": {},
   "outputs": [
    {
     "name": "stdout",
     "output_type": "stream",
     "text": [
      "john\n",
      "jenny\n",
      "amy\n",
      "michael\n",
      "\n",
      "< stride 2 >\n",
      "john\n",
      "amy\n",
      "\n",
      "< reverse >\n",
      "michael\n",
      "amy\n",
      "jenny\n",
      "john\n"
     ]
    }
   ],
   "source": [
    "# iterate with object`s length\n",
    "name_list = ['john', 'jenny', 'amy', 'michael']\n",
    "\n",
    "for idx in range(len(name_list)):\n",
    "    print(name_list[idx])\n",
    "    \n",
    "print()\n",
    "print(\"< stride 2 >\")\n",
    "for idx in range(0, len(name_list), 2):\n",
    "    print(name_list[idx])\n",
    "\n",
    "print()\n",
    "print(\"< reverse >\")\n",
    "for idx in range(len(name_list)-1, -1, -1):\n",
    "    print(name_list[idx])"
   ]
  },
  {
   "cell_type": "code",
   "execution_count": 12,
   "metadata": {},
   "outputs": [
    {
     "name": "stdout",
     "output_type": "stream",
     "text": [
      "amy\n",
      "michael\n",
      "\n",
      "stride 2\n",
      "john\n",
      "amy\n",
      "sam\n",
      "\n",
      "< reverse >\n",
      "elise\n",
      "sam\n",
      "michael\n",
      "amy\n",
      "jenny\n"
     ]
    }
   ],
   "source": [
    "# Iterate with index slice\n",
    "for name in ['john', 'jenny', 'amy', 'michael', 'sam', 'elise'][2:4]:\n",
    "    print(name)\n",
    "    \n",
    "print()\n",
    "print(\"stride 2\")\n",
    "for name in ['john', 'jenny', 'amy', 'michael', 'sam', 'elise'][::2]:\n",
    "    print(name)\n",
    "    \n",
    "print()\n",
    "print(\"< reverse >\")\n",
    "for name in ['john', 'jenny', 'amy', 'michael', 'sam', 'elise'][-1:0:-1]: # Where is John?\n",
    "    print(name)"
   ]
  },
  {
   "cell_type": "code",
   "execution_count": 13,
   "metadata": {},
   "outputs": [
    {
     "name": "stdout",
     "output_type": "stream",
     "text": [
      "john\n",
      "   j\n",
      "   o\n",
      "   h\n",
      "   n\n",
      "jenny\n",
      "   j\n",
      "   e\n",
      "   n\n",
      "   n\n",
      "   y\n",
      "amy\n",
      "   a\n",
      "   m\n",
      "   y\n",
      "michael\n",
      "   m\n",
      "   i\n",
      "   c\n",
      "   h\n",
      "   a\n",
      "   e\n",
      "   l\n",
      "['a', 'b', 'c']\n",
      "   a\n",
      "   b\n",
      "   c\n",
      "(1, 2, 3)\n",
      "   1\n",
      "   2\n",
      "   3\n"
     ]
    }
   ],
   "source": [
    "# Nested for loop\n",
    "iter_list = ['john', 'jenny', 'amy', 'michael', ['a', 'b', 'c'], (1, 2, 3)]\n",
    "\n",
    "for list_element in iter_list:\n",
    "    print(list_element)\n",
    "    \n",
    "    for e in list_element:\n",
    "        print(\"  \", e)"
   ]
  },
  {
   "cell_type": "code",
   "execution_count": 14,
   "metadata": {},
   "outputs": [
    {
     "name": "stdout",
     "output_type": "stream",
     "text": [
      "0\n",
      "1\n",
      "2\n",
      "3\n",
      "4\n",
      "5\n",
      "6\n",
      "7\n",
      "8\n",
      "9\n"
     ]
    }
   ],
   "source": [
    "# Escape for loop\n",
    "\n",
    "for i in range(100000):\n",
    "    if i == 10:\n",
    "        break # escape this loop\n",
    "    print(i)"
   ]
  },
  {
   "cell_type": "code",
   "execution_count": 15,
   "metadata": {},
   "outputs": [
    {
     "name": "stdout",
     "output_type": "stream",
     "text": [
      "john\n",
      "jenny\n",
      "amy\n",
      "michael\n"
     ]
    }
   ],
   "source": [
    "# Continue (jump to next iterate)\n",
    "for name in ['john', ('sam', 'jack'), 'jenny', 'amy', 'michael']:\n",
    "    if not isinstance(name, str):\n",
    "        continue # jump\n",
    "    print(name)"
   ]
  },
  {
   "cell_type": "code",
   "execution_count": 16,
   "metadata": {},
   "outputs": [
    {
     "name": "stdout",
     "output_type": "stream",
     "text": [
      "['1st: john', '2nd: jenny', '3rd: amy', '4th: michael', '5th: sam', '6th: elise']\n"
     ]
    }
   ],
   "source": [
    "# Iterate with enumerate()\n",
    "rank = ['john', 'jenny', 'amy', 'michael', 'sam', 'elise']\n",
    "\n",
    "for idx, value in enumerate(rank):\n",
    "    \n",
    "    ranking = str(idx + 1)\n",
    "    \n",
    "    if ranking == '1':\n",
    "        ranking += \"st\"\n",
    "        \n",
    "    elif ranking == '2':\n",
    "        ranking += \"nd\" \n",
    "        \n",
    "    elif ranking =='3':\n",
    "        ranking += \"rd\"\n",
    "        \n",
    "    else:\n",
    "        ranking += \"th\"\n",
    "        \n",
    "    rank[idx] = ranking + \": \" + value\n",
    "    \n",
    "print(rank)"
   ]
  },
  {
   "cell_type": "code",
   "execution_count": 17,
   "metadata": {},
   "outputs": [
    {
     "name": "stdout",
     "output_type": "stream",
     "text": [
      "#1\t 8\n",
      "#2\t 10\n"
     ]
    }
   ],
   "source": [
    "# while loop\n",
    "# while condition:\n",
    "#    statements\n",
    "# iterate while condition is true.\n",
    "\n",
    "# 랜덤 값이 10이 나올 때까지 반복\n",
    "# 랜덤 0-10 값 생성 (random.randint(start, stop))\n",
    "# while loop 사용 시 무한 루프에 빠지지 않게 주의 할 것! 탈출 조건 명시(break or condition)\n",
    "import random\n",
    "\n",
    "idx = 0\n",
    "while 1:\n",
    "    rand_num = random.randint(0, 10)\n",
    "        \n",
    "    idx+=1\n",
    "    print(\"#\"+str(idx)+\"\\t\", rand_num)\n",
    "    \n",
    "    if rand_num == 10:\n",
    "        break"
   ]
  },
  {
   "cell_type": "code",
   "execution_count": 18,
   "metadata": {},
   "outputs": [
    {
     "name": "stdout",
     "output_type": "stream",
     "text": [
      "[2, 3, 5, 7, 11, 13, 17, 19, 23, 29, 31, 37, 41, 43, 47, 53, 59, 61, 67, 71]\n"
     ]
    }
   ],
   "source": [
    "# n번째 소수 구하기\n",
    "n_th = 20\n",
    "prime_numbers = [2]\n",
    "\n",
    "number = 2\n",
    "while len(prime_numbers) < n_th:\n",
    "    is_prime = True\n",
    "    \n",
    "    for factor in prime_numbers:\n",
    "        if number % factor == 0:\n",
    "            is_prime = False\n",
    "            break\n",
    "            \n",
    "    if is_prime:\n",
    "        prime_numbers.append(number)\n",
    "    \n",
    "    number += 1\n",
    "    \n",
    "\n",
    "print(prime_numbers)            "
   ]
  },
  {
   "cell_type": "markdown",
   "metadata": {},
   "source": [
    "### List comprehension"
   ]
  },
  {
   "cell_type": "code",
   "execution_count": 20,
   "metadata": {},
   "outputs": [
    {
     "data": {
      "text/plain": [
       "['All',\n",
       " 'happy',\n",
       " 'families',\n",
       " 'are',\n",
       " 'alike;',\n",
       " 'each',\n",
       " 'unhappy',\n",
       " 'family',\n",
       " 'is',\n",
       " 'unhappy',\n",
       " 'in',\n",
       " 'its',\n",
       " 'own',\n",
       " 'way.']"
      ]
     },
     "execution_count": 20,
     "metadata": {},
     "output_type": "execute_result"
    }
   ],
   "source": [
    "# Generate list with for loop.\n",
    "\n",
    "# Get words white space separated using str.split()\n",
    "sentence = \"All happy families are alike; each unhappy family is unhappy in its own way.\"\n",
    "[word for word in sentence.split()]"
   ]
  },
  {
   "cell_type": "code",
   "execution_count": 51,
   "metadata": {},
   "outputs": [
    {
     "data": {
      "text/plain": [
       "['__add__',\n",
       " '__doc__',\n",
       " '__getitem__',\n",
       " '__init_subclass__',\n",
       " '__mod__',\n",
       " '__reduce_ex__',\n",
       " '__sizeof__',\n",
       " 'center',\n",
       " 'find',\n",
       " 'isalpha',\n",
       " 'isnumeric',\n",
       " 'join',\n",
       " 'partition',\n",
       " 'rpartition',\n",
       " 'startswith',\n",
       " 'upper']"
      ]
     },
     "execution_count": 51,
     "metadata": {},
     "output_type": "execute_result"
    }
   ],
   "source": [
    "# Get all variables & methods in str() using dir(str)\n",
    "[prop for prop in dir(str)][::5] # [::5] <-- 결과가 길어서 5개마다 찍음"
   ]
  },
  {
   "cell_type": "code",
   "execution_count": 22,
   "metadata": {},
   "outputs": [
    {
     "data": {
      "text/plain": [
       "[0, 2, 4, 6, 8, 10, 12, 14, 16, 18]"
      ]
     },
     "execution_count": 22,
     "metadata": {},
     "output_type": "execute_result"
    }
   ],
   "source": [
    "# Generate list with for loop & if condition\n",
    "\n",
    "[even_num for even_num in range(20) if even_num%2 == 0]"
   ]
  },
  {
   "cell_type": "code",
   "execution_count": 27,
   "metadata": {},
   "outputs": [
    {
     "data": {
      "text/plain": [
       "['isalnum',\n",
       " 'isalpha',\n",
       " 'isdecimal',\n",
       " 'isdigit',\n",
       " 'isidentifier',\n",
       " 'islower',\n",
       " 'isnumeric',\n",
       " 'isprintable',\n",
       " 'isspace',\n",
       " 'istitle',\n",
       " 'isupper']"
      ]
     },
     "execution_count": 27,
     "metadata": {},
     "output_type": "execute_result"
    }
   ],
   "source": [
    "# Get all variables & methods in str() starts with 'is'(double under score) using dir(str)\n",
    "[prop for prop in dir(str) if prop.startswith('is')]"
   ]
  },
  {
   "cell_type": "code",
   "execution_count": 43,
   "metadata": {},
   "outputs": [
    {
     "ename": "SyntaxError",
     "evalue": "invalid syntax (<ipython-input-43-f4702c3e7f1c>, line 3)",
     "traceback": [
      "\u001b[0;36m  File \u001b[0;32m\"<ipython-input-43-f4702c3e7f1c>\"\u001b[0;36m, line \u001b[0;32m3\u001b[0m\n\u001b[0;31m    [short_name if len(short_name) < 5 for short_name in ['john', 'jenny', 'amy', 'michael', 'sam', 'elise']]\u001b[0m\n\u001b[0m                                         ^\u001b[0m\n\u001b[0;31mSyntaxError\u001b[0m\u001b[0;31m:\u001b[0m invalid syntax\n"
     ],
     "output_type": "error"
    }
   ],
   "source": [
    "# Get name which is shorter than 5 characters\n",
    "[short_name for short_name in ['john', 'jenny', 'amy', 'michael', 'sam', 'elise'] if len(short_name) < 5]"
   ]
  },
  {
   "cell_type": "code",
   "execution_count": 50,
   "metadata": {},
   "outputs": [
    {
     "name": "stdout",
     "output_type": "stream",
     "text": [
      "['john', 'jenn', 'amy', 'mich', 'sam', 'elis']\n",
      "['john', 'jenn', 'amy', 'mich', 'sam', 'elis']\n"
     ]
    }
   ],
   "source": [
    "names = ['john', 'jenny', 'amy', 'michael', 'sam', 'elise']\n",
    "print([limit_4 if len(limit_4) < 5 else limit_4[:4] for limit_4 in names])\n",
    "print([name[:4] for name in names])"
   ]
  },
  {
   "cell_type": "code",
   "execution_count": 46,
   "metadata": {},
   "outputs": [
    {
     "data": {
      "text/plain": [
       "[10, 9, 8, 7, 6, 5, 4, 3, 2, 1, 0, 1, 2, 3, 4, 5, 6, 7, 8, 9]"
      ]
     },
     "execution_count": 46,
     "metadata": {},
     "output_type": "execute_result"
    }
   ],
   "source": [
    "[absolute if absolute >= 0 else -absolute for absolute in range(-10, 10)]"
   ]
  },
  {
   "cell_type": "code",
   "execution_count": null,
   "metadata": {},
   "outputs": [],
   "source": []
  }
 ],
 "metadata": {
  "kernelspec": {
   "display_name": "Python 3",
   "language": "python",
   "name": "python3"
  },
  "language_info": {
   "codemirror_mode": {
    "name": "ipython",
    "version": 3
   },
   "file_extension": ".py",
   "mimetype": "text/x-python",
   "name": "python",
   "nbconvert_exporter": "python",
   "pygments_lexer": "ipython3",
   "version": "3.6.5"
  }
 },
 "nbformat": 4,
 "nbformat_minor": 2
}
