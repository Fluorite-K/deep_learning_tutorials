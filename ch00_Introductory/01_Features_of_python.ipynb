{
 "cells": [
  {
   "cell_type": "markdown",
   "metadata": {},
   "source": [
    "# Dynamic Typing"
   ]
  },
  {
   "cell_type": "code",
   "execution_count": 1,
   "metadata": {
    "collapsed": true
   },
   "outputs": [],
   "source": [
    "one = 1\n",
    "pi = 3.14\n",
    "name = 'John'"
   ]
  },
  {
   "cell_type": "code",
   "execution_count": 2,
   "metadata": {},
   "outputs": [
    {
     "name": "stdout",
     "output_type": "stream",
     "text": [
      "The type of variable named 'one' : <class 'int'>\n",
      "The type of variable named 'pi'  : <class 'float'>\n",
      "The type of variable named 'name': <class 'str'>\n"
     ]
    }
   ],
   "source": [
    "print('The type of variable named \\'one\\' : %s' % type(one))\n",
    "print('The type of variable named \\'pi\\'  : %s' % type(pi))\n",
    "print('The type of variable named \\'name\\': %s' % type(name))"
   ]
  },
  {
   "cell_type": "code",
   "execution_count": 3,
   "metadata": {},
   "outputs": [
    {
     "name": "stdout",
     "output_type": "stream",
     "text": [
      "one=1, name=John\n",
      "one = name # Assign 'name' to 'one'.\n",
      "\n",
      "The type of variable named 'one' : <class 'str'>, Value : John\n"
     ]
    }
   ],
   "source": [
    "print('one=%s, name=%s\\none = name # Assign \\'name\\' to \\'one\\'.\\n' % (str(one), name))\n",
    "one = name\n",
    "print('The type of variable named \\'one\\' : %s, Value : %s' % (type(one), str(one)))"
   ]
  },
  {
   "cell_type": "markdown",
   "metadata": {},
   "source": [
    "# Block & Scope"
   ]
  },
  {
   "cell_type": "code",
   "execution_count": 8,
   "metadata": {},
   "outputs": [],
   "source": [
    "# Global Area\n",
    "\n",
    "# Declare a variable named 'g_num' and initialize value with 1.\n",
    "g_num = 1\n",
    "\n",
    "# Define a Function named 'print_func'.\n",
    "def func():\n",
    "    # Local Area\n",
    "    l_num = 0\n",
    "    g_num = l_num\n",
    "    \n",
    "    return g_num, l_num"
   ]
  },
  {
   "cell_type": "code",
   "execution_count": 5,
   "metadata": {},
   "outputs": [
    {
     "name": "stdout",
     "output_type": "stream",
     "text": [
      "Local  variable 'g_num': 0, Local variable 'l_num': 0\n",
      "Global variable 'g_num':  1\n"
     ]
    }
   ],
   "source": [
    "print('Local  variable \\'g_num\\': %s, Local variable \\'l_num\\': %s' % (func()[0], func()[1]))\n",
    "print('Global variable \\'g_num\\': ', g_num)"
   ]
  },
  {
   "cell_type": "code",
   "execution_count": 18,
   "metadata": {},
   "outputs": [
    {
     "name": "stdout",
     "output_type": "stream",
     "text": [
      "while:  0\n",
      "while:  1\n",
      "while:  2\n",
      "while:  3\n",
      "while:  4\n",
      "while:  5\n",
      "while:  6\n",
      "while:  7\n",
      "while:  8\n",
      "while:  9\n",
      "for:  0\n",
      "for:  1\n",
      "for:  2\n",
      "for:  3\n",
      "for:  4\n",
      "for:  5\n",
      "for:  6\n",
      "for:  7\n",
      "for:  8\n",
      "for:  9\n"
     ]
    }
   ],
   "source": [
    "cnt = 0\n",
    "\n",
    "while cnt < 10:\n",
    "    print(\"while: \", cnt)\n",
    "    cnt += 1\n",
    "    \n",
    "for x in range(10):\n",
    "    print(\"for: \", x)\n"
   ]
  },
  {
   "cell_type": "markdown",
   "metadata": {},
   "source": [
    "# OOP\n",
    "* Abstraction\n",
    "* Encapsulation\n",
    "* Inheritance\n",
    "* Polymorphism"
   ]
  },
  {
   "cell_type": "code",
   "execution_count": 31,
   "metadata": {
    "collapsed": true
   },
   "outputs": [],
   "source": [
    "class Person: # Exactly same that \"class Person(object):\"\n",
    "    def __init__(self, name, age):\n",
    "        self.name = name\n",
    "        self.age  = age\n",
    "        \n",
    "    def __repr__(self):\n",
    "        return 'Person[name={}, age={}]'.format(self.name, self.age)\n",
    "    \n",
    "    def say_hello(self):\n",
    "        print('Hi, My name is {} and I`m {} years old.'.format(self.name, self.age))"
   ]
  },
  {
   "cell_type": "code",
   "execution_count": 30,
   "metadata": {},
   "outputs": [
    {
     "name": "stdout",
     "output_type": "stream",
     "text": [
      "Person[name=Amy, age=24]\n"
     ]
    }
   ],
   "source": [
    "# p = Person(name, 20)\n",
    "# print(p)\n",
    "# print(p.name, p.age)\n",
    "p = Person('Amy', 24)\n",
    "print(p)"
   ]
  },
  {
   "cell_type": "markdown",
   "metadata": {},
   "source": [
    "Person  (Parent class, Super class)\n",
    "Student (Children class, Sub class)"
   ]
  },
  {
   "cell_type": "code",
   "execution_count": 64,
   "metadata": {
    "collapsed": true
   },
   "outputs": [],
   "source": [
    "class Student(Person):\n",
    "    def __init__(self, name, age, major, std_id):\n",
    "        Person.__init__(self, name, age)\n",
    "        self.major = major\n",
    "        self.__std_id = std_id # private variable <- (Add prefix double under score)\n",
    "        \n",
    "    # Method Overriding    \n",
    "    def __repr__(self):\n",
    "        return 'Student[student id= {}, name={}, age={}, major={}]'.format(\n",
    "            self.__std_id, self.name, self.age, self.major\n",
    "        )\n",
    "    \n",
    "    def say_hello(self, someone):\n",
    "        print('Hi, {}. My name is {} and I`m {} years old.'.format(someone.name, self.name, self.age))\n",
    "        \n",
    "    def confirm_my_lec(self, major):\n",
    "        return major\n",
    "        \n",
    "    # Method Overloading in python\n",
    "#     def say_hello(self, someone=None):\n",
    "#         if someone:\n",
    "#             print('Hi, {}. My name is {} and I`m {} years old.'.format(someone.name, self.name, self.age))\n",
    "#         else:\n",
    "#             print('Hi, My name is {} and I`m {} years old.'.format(self.name, self.age))"
   ]
  },
  {
   "cell_type": "code",
   "execution_count": 65,
   "metadata": {
    "collapsed": true
   },
   "outputs": [],
   "source": [
    "s = Student('Hannah', 20, 'English', 'std0001')"
   ]
  },
  {
   "cell_type": "code",
   "execution_count": 66,
   "metadata": {},
   "outputs": [
    {
     "name": "stdout",
     "output_type": "stream",
     "text": [
      "Student[student id= std0001, name=Hannah, age=20, major=English]\n",
      "Hi, Amy. My name is Hannah and I`m 20 years old.\n"
     ]
    },
    {
     "data": {
      "text/plain": [
       "'English'"
      ]
     },
     "execution_count": 66,
     "metadata": {},
     "output_type": "execute_result"
    }
   ],
   "source": [
    "print(s)\n",
    "# print(s.__std_id) # Access private member\n",
    "s.say_hello(p2)\n",
    "s.confirm_my_lec(s.major)\n",
    "# s.say_hello() # <- Error. In Python, You cannot use method overloading by function signature.\n",
    "# But It can using other external libraries for example use known as 'pythonlangutil'."
   ]
  },
  {
   "cell_type": "code",
   "execution_count": 106,
   "metadata": {
    "collapsed": true
   },
   "outputs": [],
   "source": [
    "class Animal:\n",
    "    def __init__(self, spices):\n",
    "        self.spices = spices\n",
    "        \n",
    "    def __repr__(self):\n",
    "        return ('Animal[spcies=%s]' % self.spices)\n",
    "        \n",
    "    def eat(self):\n",
    "        print('eat something.')\n",
    "    \n",
    "    def a(self):\n",
    "        print('do not modify!')\n",
    "\n",
    "        \n",
    "class Flight:\n",
    "    def __init__(self, f_type):\n",
    "        self.f_type= f_type\n",
    "        \n",
    "    def __repr__(self):\n",
    "        return ('Flight[type=%s]' % self.f_type)\n",
    "        \n",
    "    def fly(self, src, dst):\n",
    "        print('Fly {} to {}'.format(src, dst))\n",
    "\n",
    "\n",
    "class Bird(Flight, Animal):\n",
    "    def __init__(self, spices, f_type):\n",
    "        Animal.__init__(self, spices)\n",
    "        Flight.__init__(self, f_type)\n",
    "    \n",
    "    def __repr__(self):\n",
    "        return 'Bird[]'\n",
    "    \n",
    "    def method_a(self):\n",
    "        return 'method'\n",
    "    \n",
    "    \n",
    "class A(Bird):\n",
    "    def __init__(self, s, t):\n",
    "        Bird.__init__(self, s, t)\n",
    "    \n",
    "    # Overloading\n",
    "    def method_a(self, a):\n",
    "        if a:\n",
    "            return 'method ' + a\n",
    "        else:\n",
    "            return Bird.method_a(self)"
   ]
  },
  {
   "cell_type": "code",
   "execution_count": 107,
   "metadata": {
    "scrolled": true
   },
   "outputs": [
    {
     "name": "stdout",
     "output_type": "stream",
     "text": [
      "Bird:  Bird[]\n",
      "eat something.\n",
      "Fly Gwacheon to Anyang\n",
      "do not modify!\n",
      "method param\n",
      "method\n"
     ]
    }
   ],
   "source": [
    "# a = Animal('dog')\n",
    "# print('Animal: ', a)\n",
    "# a.eat()\n",
    "\n",
    "# f = Flight('boeing 747')\n",
    "# print('Flight: ', f)\n",
    "# f.fly('JFK', 'ICN')\n",
    "\n",
    "b = Bird('Eagle', 'bird')\n",
    "print('Bird: ', b)\n",
    "b.eat()\n",
    "b.fly('Gwacheon', 'Anyang')\n",
    "b.a()\n",
    "\n",
    "ca = A('a', 'a')\n",
    "print(ca.method_a('param'))\n",
    "print(ca.method_a())"
   ]
  },
  {
   "cell_type": "code",
   "execution_count": null,
   "metadata": {
    "collapsed": true
   },
   "outputs": [],
   "source": [
    "Animal.__repr__ = object.__repr__\n",
    "Flight.__repr__ = object.__repr__\n",
    "\n",
    "Bird.__repr__ = "
   ]
  },
  {
   "cell_type": "markdown",
   "metadata": {},
   "source": [
    "# Functional Programming\n",
    "* First class citizen(First class object):\n",
    "    * Can be assign variables.\n",
    "    * Can be functions' return value.\n",
    "    * Can be store with any data structures.\n",
    "    * Can be assign parameters(arguments) of function.\n",
    "    "
   ]
  },
  {
   "cell_type": "code",
   "execution_count": 11,
   "metadata": {
    "collapsed": true
   },
   "outputs": [],
   "source": [
    "def addition(o1, o2):\n",
    "    return o1 + o2\n",
    "    \n",
    "def subtraction(o1, o2):\n",
    "    return o1 - o2\n",
    "\n",
    "def multiplication(o1, o2):\n",
    "    return o1 * o2\n",
    "\n",
    "def division(o1, o2):\n",
    "    return o1 / o2\n",
    "\n",
    "def calc(o1, o2, op):\n",
    "    return op(o1, o2)\n",
    "\n",
    "# Lambda Expression\n",
    "func_calc = lambda o1, o2, op: op(o1, o2)"
   ]
  },
  {
   "cell_type": "code",
   "execution_count": 12,
   "metadata": {},
   "outputs": [
    {
     "name": "stdout",
     "output_type": "stream",
     "text": [
      "16\n",
      "2.0\n"
     ]
    }
   ],
   "source": [
    "print(calc(3, 13, addition))\n",
    "print(func_calc(4, 2, division))"
   ]
  },
  {
   "cell_type": "code",
   "execution_count": 45,
   "metadata": {},
   "outputs": [
    {
     "data": {
      "text/plain": [
       "1"
      ]
     },
     "execution_count": 45,
     "metadata": {},
     "output_type": "execute_result"
    }
   ],
   "source": []
  },
  {
   "cell_type": "code",
   "execution_count": null,
   "metadata": {
    "collapsed": true
   },
   "outputs": [],
   "source": []
  }
 ],
 "metadata": {
  "kernelspec": {
   "display_name": "Python 3",
   "language": "python",
   "name": "python3"
  },
  "language_info": {
   "codemirror_mode": {
    "name": "ipython",
    "version": 3
   },
   "file_extension": ".py",
   "mimetype": "text/x-python",
   "name": "python",
   "nbconvert_exporter": "python",
   "pygments_lexer": "ipython3",
   "version": "3.6.1"
  }
 },
 "nbformat": 4,
 "nbformat_minor": 2
}
