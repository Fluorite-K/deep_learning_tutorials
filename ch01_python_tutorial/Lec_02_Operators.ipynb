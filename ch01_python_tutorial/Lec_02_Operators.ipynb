{
 "cells": [
  {
   "cell_type": "code",
   "execution_count": 9,
   "metadata": {},
   "outputs": [
    {
     "data": {
      "text/html": [
       "<style>\n",
       "    table {float:left}\n",
       "</style>"
      ],
      "text/plain": [
       "<IPython.core.display.HTML object>"
      ]
     },
     "metadata": {},
     "output_type": "display_data"
    }
   ],
   "source": [
    "%%html\n",
    "<style>\n",
    "    table {float:left}\n",
    "</style>"
   ]
  },
  {
   "cell_type": "markdown",
   "metadata": {},
   "source": [
    "### Priority of operators\n",
    "\n",
    "* The following table lists all operators from highest precedence to lowest.\n",
    "\n",
    "| Operator |\tDescription\t|\n",
    "|:-----------:|:-----------|\n",
    "| `**` | Exponentiation (raise to the power)\t|\n",
    "| `~ + -` |\tComplement, unary plus and minus (method names for the last two are +@ and -@) |\n",
    "| `* / % //` | Multiply, divide, modulo and floor division |\n",
    "| `+ -` | Addition and subtraction |\n",
    "| `>> <<` |\tRight and left bitwise shift\t|\n",
    "| `&` |\tBitwise 'AND' |\n",
    "| `^ |` | Bitwise exclusive 'OR and 'OR' |\n",
    "| `<= < > >=` |\tComparison operators | \n",
    "| `< > == !=` | Equality operators |\n",
    "| `= %= /= //= *= **= -= +=` | Assignment operators |\n",
    "| `is is not` |\tIdentity operators |\n",
    "| `in not in` | Membership operators |\n",
    "| `not or and` | Logical operators |"
   ]
  },
  {
   "cell_type": "markdown",
   "metadata": {},
   "source": [
    "### Other Operators\n",
    "\n",
    "| Operator |\tDescription\t|\n",
    "|:-----------:|:-----------|\n",
    "| `isinstace` | Confirm instance of an object |\n",
    "| `()` | Call any callable objects |\n",
    "| `.` | Reference attributes |\n",
    "| `\\` | Line concat |"
   ]
  },
  {
   "cell_type": "code",
   "execution_count": 8,
   "metadata": {},
   "outputs": [
    {
     "name": "stdout",
     "output_type": "stream",
     "text": [
      "False\n",
      "True\n"
     ]
    }
   ],
   "source": [
    "# isinstance (not Operator. this is function)\n",
    "\n",
    "print(isinstance(\"asd\", list))\n",
    "print(isinstance(\"asd\", (str, list)))"
   ]
  },
  {
   "cell_type": "code",
   "execution_count": null,
   "metadata": {},
   "outputs": [],
   "source": []
  }
 ],
 "metadata": {
  "kernelspec": {
   "display_name": "Python 3",
   "language": "python",
   "name": "python3"
  },
  "language_info": {
   "codemirror_mode": {
    "name": "ipython",
    "version": 3
   },
   "file_extension": ".py",
   "mimetype": "text/x-python",
   "name": "python",
   "nbconvert_exporter": "python",
   "pygments_lexer": "ipython3",
   "version": "3.6.5"
  }
 },
 "nbformat": 4,
 "nbformat_minor": 2
}
