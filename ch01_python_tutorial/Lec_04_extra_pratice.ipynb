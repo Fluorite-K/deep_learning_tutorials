{
 "cells": [
  {
   "cell_type": "code",
   "execution_count": 1,
   "metadata": {},
   "outputs": [],
   "source": [
    "# 가위 바위 보 게임\n",
    "# while loop 종료할 때 까지\n",
    "# 플레이어 > 키보드로부터 입력 받음. 가위: 1, 바위: 2, 보: 3, 종료: q\n",
    "# 컴퓨터  > 랜덤 1-3 값 생성 (import random random.randint(start, stop))\n",
    "# 승패 결정"
   ]
  },
  {
   "cell_type": "code",
   "execution_count": 2,
   "metadata": {},
   "outputs": [
    {
     "name": "stdout",
     "output_type": "stream",
     "text": [
      "--------------------------------------------------\n",
      "가위: 1, 바위: 2, 보: 3, 종료: q\n",
      "입력하세요: q\n"
     ]
    }
   ],
   "source": [
    "import random\n",
    "\n",
    "mapping = {1:'가위', 2:'바위', 3:'보'}\n",
    "\n",
    "while True:\n",
    "    print(\"-\"*50)\n",
    "    user = input(\"가위: 1, 바위: 2, 보: 3, 종료: q\\n입력하세요: \")\n",
    "    \n",
    "    if user == 'q': # <== 'q' 입력 시 종료\n",
    "        break\n",
    "        \n",
    "    user = int(user)\n",
    "    if not 0 < user <= 3:\n",
    "        print(\"1 ~ 3 사이의 값을 입력해주세요.\")\n",
    "        continue\n",
    "        \n",
    "    com = random.randint(1, 3)\n",
    "    \n",
    "    print(\"\\tPlayer   : \", mapping[user])\n",
    "    print(\"\\tComputer : \", mapping[com])\n",
    "    \n",
    "    winner = user - com % 3\n",
    "    \n",
    "    if winner == 0:\n",
    "        print(\"Draw!\")\n",
    "    \n",
    "    elif winner == 1:\n",
    "        print(\"Win!\")\n",
    "        \n",
    "    else:\n",
    "        print(\"Lose!\")\n",
    "    print()"
   ]
  },
  {
   "cell_type": "markdown",
   "metadata": {},
   "source": [
    "### 묵찌빠 게임\n",
    "* while loop 종료할 때 까지 반복\n",
    "* 플레이어 << 키보드로부터 입력 받음. 가위: 1, 바위: 2, 보: 3, 종료: q\n",
    "* 컴퓨터  << 랜덤 1-3 값 생성 (import random random.randint(start, stop))\n",
    "* 선공 결정: 공격자가 정해지기 전에 비긴 경우\n",
    "* 공격자 변경: 공격자가 없을 때 이긴 사람이 공격\n",
    "* 승패 결정: 공격자가 정해진 다음에 비긴 경우 \n",
    "\n",
    "* 위의 가위바위보를 참조해서 풀어볼 것.\n",
    "* Lec_04_extra_pratice_2.ipynb에 내가 작성한 예시 있음. 풀어보고 비교"
   ]
  },
  {
   "cell_type": "code",
   "execution_count": 4,
   "metadata": {},
   "outputs": [],
   "source": [
    "from Hints_rsp import Hint\n",
    "hint = Hint()"
   ]
  },
  {
   "cell_type": "code",
   "execution_count": 5,
   "metadata": {},
   "outputs": [
    {
     "name": "stdout",
     "output_type": "stream",
     "text": [
      "5\n"
     ]
    }
   ],
   "source": [
    "# 힌트를 원한다면 아래 코드 주석 풀고 실행\n",
    "# hint.next_hint() # <-- 힌트 한 개씩 출력함.\n",
    "\n",
    "print(len(hint)) # 힌트 갯수\n",
    "# print(hint[0])\n",
    "# print(hint[1])\n",
    "# print(hint[2])\n",
    "# print(hint[3])\n",
    "# print(hint[4])"
   ]
  },
  {
   "cell_type": "markdown",
   "metadata": {},
   "source": [
    "### Fizz Buzz\n",
    "[참조 Fizz Buzz](https://en.wikipedia.org/wiki/Fizz_buzz)\n",
    "\n",
    "* 100까지 숫자를 출력하며,\n",
    "* 3의 배수는 'Fizz'\n",
    "* 5의 배수는 'Buzz'\n",
    "* 3과 5의 공배수는 'Fizz Buzz' 출력\n",
    "* 예시 : \n",
    "1, 2, Fizz, 4, Buzz, Fizz, 7, 8, Fizz, Buzz, 11, Fizz, 13, 14, Fizz Buzz, 16, 17, Fizz, 19, Buzz, Fizz, 22, 23, Fizz, Buzz, 26, Fizz, 28, 29, Fizz Buzz, 31, 32, Fizz, 34, Buzz, Fizz, ..."
   ]
  },
  {
   "cell_type": "code",
   "execution_count": null,
   "metadata": {},
   "outputs": [],
   "source": []
  }
 ],
 "metadata": {
  "kernelspec": {
   "display_name": "Python 3",
   "language": "python",
   "name": "python3"
  },
  "language_info": {
   "codemirror_mode": {
    "name": "ipython",
    "version": 3
   },
   "file_extension": ".py",
   "mimetype": "text/x-python",
   "name": "python",
   "nbconvert_exporter": "python",
   "pygments_lexer": "ipython3",
   "version": "3.6.5"
  }
 },
 "nbformat": 4,
 "nbformat_minor": 2
}
